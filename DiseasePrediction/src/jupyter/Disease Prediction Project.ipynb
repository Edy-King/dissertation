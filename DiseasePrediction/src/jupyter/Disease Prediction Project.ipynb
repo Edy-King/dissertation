{
 "cells": [
  {
   "cell_type": "markdown",
   "id": "6bdf636e",
   "metadata": {},
   "source": [
    "# DISEASE PREDICTION USING ML TECHNIQUES (Random Forest, Xgboost, Logistics Regression and Naive Bayes Classifier models) CASE STUDY OF  Classification of SARS-CoV-2\n",
    "\n",
    "### Introduction\n",
    "Pneumonia caused by SARS-CoV-2 emerged in Wuhan, China in December 2019 and was officially named COVID-19 by the WHO on Feb 11, 2020. The disease presents with a range of symptoms, including fever, dry cough, and fatigue, and is highly contagious through respiratory droplets and direct contact. The Chinese government and scientific community have taken rapid action to identify and contain the epidemic. Machine learning algorithms are being used to diagnose and manage the spread of the virus, which is the focus of this paper. Research has provided critical information on the biology and pathogenesis of SARS-CoV-2, as well as epidemiology, clinical features, diagnosis, management, and drug and vaccine development.\n",
    "\n",
    "### Data Description\n",
    "The data set used for this machine learning process was source from [Kaggle covid-19 dataset](https://www.kaggle.com/datasets/mykeysid10/covid19-dataset-for-year-2020). However, the original source is found at [Israel Govt databases](https://data.gov.il/dataset/covid-19/resource/d337959a-020a-4ed3-84f7-fca182292308). \n",
    "\n",
    "The data set contained 5861480 rows and 10 columns. Columns in the set are:\n",
    "\n",
    "test_date,cough,fever, sore_throat, shortness_of_breath, head_ache, corona_result, age_60_and_above, gender and test_indication. For this work, we shall be using all columns having symptoms and the the test_indication."
   ]
  },
  {
   "cell_type": "markdown",
   "id": "f7f7a364",
   "metadata": {},
   "source": [
    "**IMPORATION OF NEEDED LIBRARIES**"
   ]
  },
  {
   "cell_type": "code",
   "execution_count": 42,
   "id": "e31f2270",
   "metadata": {},
   "outputs": [
    {
     "name": "stdout",
     "output_type": "stream",
     "text": [
      "Requirement already satisfied: Flask in c:\\users\\edward osikem\\anaconda3\\lib\\site-packages (1.1.2)\n",
      "Requirement already satisfied: click>=5.1 in c:\\users\\edward osikem\\anaconda3\\lib\\site-packages (from Flask) (8.0.4)\n",
      "Requirement already satisfied: itsdangerous>=0.24 in c:\\users\\edward osikem\\anaconda3\\lib\\site-packages (from Flask) (2.0.1)\n",
      "Requirement already satisfied: Jinja2>=2.10.1 in c:\\users\\edward osikem\\anaconda3\\lib\\site-packages (from Flask) (2.11.3)\n",
      "Requirement already satisfied: Werkzeug>=0.15 in c:\\users\\edward osikem\\anaconda3\\lib\\site-packages (from Flask) (2.0.3)\n",
      "Requirement already satisfied: colorama in c:\\users\\edward osikem\\anaconda3\\lib\\site-packages (from click>=5.1->Flask) (0.4.5)\n",
      "Requirement already satisfied: MarkupSafe>=0.23 in c:\\users\\edward osikem\\anaconda3\\lib\\site-packages (from Jinja2>=2.10.1->Flask) (2.0.1)\n"
     ]
    }
   ],
   "source": [
    "#!pip install xgboost\n",
    "import xgboost as xgb\n",
    "import numpy as np\n",
    "import pandas as pd\n",
    "from sklearn.metrics import accuracy_score\n",
    "from sklearn.model_selection import train_test_split\n",
    "from sklearn.linear_model import LogisticRegression\n",
    "from sklearn.ensemble import RandomForestClassifier\n",
    "from sklearn.datasets import make_classification\n",
    "from sklearn.metrics import precision_score\n",
    "from sklearn.metrics import recall_score\n",
    "from sklearn.metrics import f1_score\n",
    "\n",
    "import matplotlib as mpl\n",
    "import matplotlib.pyplot as plt\n",
    "import seaborn as sns\n",
    "from sklearn.metrics import confusion_matrix\n",
    "from sklearn.svm import SVC\n",
    "from sklearn.metrics import classification_report, confusion_matrix\n",
    "\n",
    "#INSTAL FLASK TO SERVE THE FRONT END\n",
    "!pip install Flask\n",
    "\n",
    "# Note: This process can also be spread out at several stages of the machine learning building and actually a few library \n",
    "# importations were done during the work\n",
    "mpl.rcParams['agg.path.chunksize'] = 1000\n"
   ]
  },
  {
   "cell_type": "markdown",
   "id": "a2c19858",
   "metadata": {},
   "source": [
    "**Assigning the downloaded covid data set to the variable 'df' (dataframe)**"
   ]
  },
  {
   "cell_type": "code",
   "execution_count": 2,
   "id": "2b2caf2e",
   "metadata": {},
   "outputs": [],
   "source": [
    "df=pd.read_csv(\"covid_data_2020-2021.csv\")"
   ]
  },
  {
   "cell_type": "markdown",
   "id": "03150eb1",
   "metadata": {},
   "source": [
    "**Confirming the contentensts of 'df'**"
   ]
  },
  {
   "cell_type": "code",
   "execution_count": 3,
   "id": "943e924f",
   "metadata": {},
   "outputs": [
    {
     "data": {
      "text/html": [
       "<div>\n",
       "<style scoped>\n",
       "    .dataframe tbody tr th:only-of-type {\n",
       "        vertical-align: middle;\n",
       "    }\n",
       "\n",
       "    .dataframe tbody tr th {\n",
       "        vertical-align: top;\n",
       "    }\n",
       "\n",
       "    .dataframe thead th {\n",
       "        text-align: right;\n",
       "    }\n",
       "</style>\n",
       "<table border=\"1\" class=\"dataframe\">\n",
       "  <thead>\n",
       "    <tr style=\"text-align: right;\">\n",
       "      <th></th>\n",
       "      <th>test_date</th>\n",
       "      <th>cough</th>\n",
       "      <th>fever</th>\n",
       "      <th>sore_throat</th>\n",
       "      <th>shortness_of_breath</th>\n",
       "      <th>head_ache</th>\n",
       "      <th>corona_result</th>\n",
       "      <th>age_60_and_above</th>\n",
       "      <th>gender</th>\n",
       "      <th>test_indication</th>\n",
       "    </tr>\n",
       "  </thead>\n",
       "  <tbody>\n",
       "    <tr>\n",
       "      <th>0</th>\n",
       "      <td>2021-10-11</td>\n",
       "      <td>0</td>\n",
       "      <td>0</td>\n",
       "      <td>0</td>\n",
       "      <td>0</td>\n",
       "      <td>0</td>\n",
       "      <td>Negative</td>\n",
       "      <td>Yes</td>\n",
       "      <td>female</td>\n",
       "      <td>Other</td>\n",
       "    </tr>\n",
       "    <tr>\n",
       "      <th>1</th>\n",
       "      <td>2021-10-11</td>\n",
       "      <td>0</td>\n",
       "      <td>0</td>\n",
       "      <td>0</td>\n",
       "      <td>0</td>\n",
       "      <td>0</td>\n",
       "      <td>Negative</td>\n",
       "      <td>Yes</td>\n",
       "      <td>male</td>\n",
       "      <td>Other</td>\n",
       "    </tr>\n",
       "    <tr>\n",
       "      <th>2</th>\n",
       "      <td>2021-10-11</td>\n",
       "      <td>0</td>\n",
       "      <td>0</td>\n",
       "      <td>0</td>\n",
       "      <td>0</td>\n",
       "      <td>0</td>\n",
       "      <td>Negative</td>\n",
       "      <td>No</td>\n",
       "      <td>female</td>\n",
       "      <td>Other</td>\n",
       "    </tr>\n",
       "    <tr>\n",
       "      <th>3</th>\n",
       "      <td>2021-10-11</td>\n",
       "      <td>0</td>\n",
       "      <td>0</td>\n",
       "      <td>0</td>\n",
       "      <td>0</td>\n",
       "      <td>0</td>\n",
       "      <td>Negative</td>\n",
       "      <td>Yes</td>\n",
       "      <td>female</td>\n",
       "      <td>Other</td>\n",
       "    </tr>\n",
       "    <tr>\n",
       "      <th>4</th>\n",
       "      <td>2021-10-11</td>\n",
       "      <td>0</td>\n",
       "      <td>0</td>\n",
       "      <td>0</td>\n",
       "      <td>0</td>\n",
       "      <td>0</td>\n",
       "      <td>Negative</td>\n",
       "      <td>Yes</td>\n",
       "      <td>female</td>\n",
       "      <td>Other</td>\n",
       "    </tr>\n",
       "    <tr>\n",
       "      <th>...</th>\n",
       "      <td>...</td>\n",
       "      <td>...</td>\n",
       "      <td>...</td>\n",
       "      <td>...</td>\n",
       "      <td>...</td>\n",
       "      <td>...</td>\n",
       "      <td>...</td>\n",
       "      <td>...</td>\n",
       "      <td>...</td>\n",
       "      <td>...</td>\n",
       "    </tr>\n",
       "    <tr>\n",
       "      <th>5861475</th>\n",
       "      <td>2020-03-20</td>\n",
       "      <td>1</td>\n",
       "      <td>1</td>\n",
       "      <td>0</td>\n",
       "      <td>0</td>\n",
       "      <td>0</td>\n",
       "      <td>Negative</td>\n",
       "      <td>No</td>\n",
       "      <td>female</td>\n",
       "      <td>Other</td>\n",
       "    </tr>\n",
       "    <tr>\n",
       "      <th>5861476</th>\n",
       "      <td>2020-03-20</td>\n",
       "      <td>0</td>\n",
       "      <td>0</td>\n",
       "      <td>0</td>\n",
       "      <td>0</td>\n",
       "      <td>0</td>\n",
       "      <td>Negative</td>\n",
       "      <td>No</td>\n",
       "      <td>male</td>\n",
       "      <td>Other</td>\n",
       "    </tr>\n",
       "    <tr>\n",
       "      <th>5861477</th>\n",
       "      <td>2020-03-20</td>\n",
       "      <td>0</td>\n",
       "      <td>0</td>\n",
       "      <td>0</td>\n",
       "      <td>0</td>\n",
       "      <td>0</td>\n",
       "      <td>Negative</td>\n",
       "      <td>No</td>\n",
       "      <td>female</td>\n",
       "      <td>Other</td>\n",
       "    </tr>\n",
       "    <tr>\n",
       "      <th>5861478</th>\n",
       "      <td>2020-03-20</td>\n",
       "      <td>0</td>\n",
       "      <td>0</td>\n",
       "      <td>0</td>\n",
       "      <td>0</td>\n",
       "      <td>0</td>\n",
       "      <td>Negative</td>\n",
       "      <td>No</td>\n",
       "      <td>male</td>\n",
       "      <td>Other</td>\n",
       "    </tr>\n",
       "    <tr>\n",
       "      <th>5861479</th>\n",
       "      <td>2020-03-20</td>\n",
       "      <td>0</td>\n",
       "      <td>0</td>\n",
       "      <td>0</td>\n",
       "      <td>0</td>\n",
       "      <td>0</td>\n",
       "      <td>Negative</td>\n",
       "      <td>No</td>\n",
       "      <td>male</td>\n",
       "      <td>Other</td>\n",
       "    </tr>\n",
       "  </tbody>\n",
       "</table>\n",
       "<p>5861480 rows × 10 columns</p>\n",
       "</div>"
      ],
      "text/plain": [
       "          test_date  cough  fever  sore_throat  shortness_of_breath  \\\n",
       "0        2021-10-11      0      0            0                    0   \n",
       "1        2021-10-11      0      0            0                    0   \n",
       "2        2021-10-11      0      0            0                    0   \n",
       "3        2021-10-11      0      0            0                    0   \n",
       "4        2021-10-11      0      0            0                    0   \n",
       "...             ...    ...    ...          ...                  ...   \n",
       "5861475  2020-03-20      1      1            0                    0   \n",
       "5861476  2020-03-20      0      0            0                    0   \n",
       "5861477  2020-03-20      0      0            0                    0   \n",
       "5861478  2020-03-20      0      0            0                    0   \n",
       "5861479  2020-03-20      0      0            0                    0   \n",
       "\n",
       "         head_ache corona_result age_60_and_above  gender test_indication  \n",
       "0                0      Negative              Yes  female           Other  \n",
       "1                0      Negative              Yes    male           Other  \n",
       "2                0      Negative               No  female           Other  \n",
       "3                0      Negative              Yes  female           Other  \n",
       "4                0      Negative              Yes  female           Other  \n",
       "...            ...           ...              ...     ...             ...  \n",
       "5861475          0      Negative               No  female           Other  \n",
       "5861476          0      Negative               No    male           Other  \n",
       "5861477          0      Negative               No  female           Other  \n",
       "5861478          0      Negative               No    male           Other  \n",
       "5861479          0      Negative               No    male           Other  \n",
       "\n",
       "[5861480 rows x 10 columns]"
      ]
     },
     "execution_count": 3,
     "metadata": {},
     "output_type": "execute_result"
    }
   ],
   "source": [
    "df"
   ]
  },
  {
   "cell_type": "markdown",
   "id": "60c1a622",
   "metadata": {},
   "source": [
    "**Reassigning integers (0 and 1) inplace of the 'Negative' and 'Positive' Strings in the corona_result coloumn \n",
    "to allow for analysis**\n"
   ]
  },
  {
   "cell_type": "code",
   "execution_count": 4,
   "id": "2aec74e6",
   "metadata": {},
   "outputs": [],
   "source": [
    "df['corona_result'] = df['corona_result'].replace({'Negative': 0, 'Positive': 1})"
   ]
  },
  {
   "cell_type": "markdown",
   "id": "b3d775c3",
   "metadata": {},
   "source": [
    "**Confirmation of the data set call up**"
   ]
  },
  {
   "cell_type": "code",
   "execution_count": 5,
   "id": "05f62f2a",
   "metadata": {
    "scrolled": false
   },
   "outputs": [
    {
     "data": {
      "text/html": [
       "<div>\n",
       "<style scoped>\n",
       "    .dataframe tbody tr th:only-of-type {\n",
       "        vertical-align: middle;\n",
       "    }\n",
       "\n",
       "    .dataframe tbody tr th {\n",
       "        vertical-align: top;\n",
       "    }\n",
       "\n",
       "    .dataframe thead th {\n",
       "        text-align: right;\n",
       "    }\n",
       "</style>\n",
       "<table border=\"1\" class=\"dataframe\">\n",
       "  <thead>\n",
       "    <tr style=\"text-align: right;\">\n",
       "      <th></th>\n",
       "      <th>test_date</th>\n",
       "      <th>cough</th>\n",
       "      <th>fever</th>\n",
       "      <th>sore_throat</th>\n",
       "      <th>shortness_of_breath</th>\n",
       "      <th>head_ache</th>\n",
       "      <th>corona_result</th>\n",
       "      <th>age_60_and_above</th>\n",
       "      <th>gender</th>\n",
       "      <th>test_indication</th>\n",
       "    </tr>\n",
       "  </thead>\n",
       "  <tbody>\n",
       "    <tr>\n",
       "      <th>0</th>\n",
       "      <td>2021-10-11</td>\n",
       "      <td>0</td>\n",
       "      <td>0</td>\n",
       "      <td>0</td>\n",
       "      <td>0</td>\n",
       "      <td>0</td>\n",
       "      <td>0</td>\n",
       "      <td>Yes</td>\n",
       "      <td>female</td>\n",
       "      <td>Other</td>\n",
       "    </tr>\n",
       "    <tr>\n",
       "      <th>1</th>\n",
       "      <td>2021-10-11</td>\n",
       "      <td>0</td>\n",
       "      <td>0</td>\n",
       "      <td>0</td>\n",
       "      <td>0</td>\n",
       "      <td>0</td>\n",
       "      <td>0</td>\n",
       "      <td>Yes</td>\n",
       "      <td>male</td>\n",
       "      <td>Other</td>\n",
       "    </tr>\n",
       "    <tr>\n",
       "      <th>2</th>\n",
       "      <td>2021-10-11</td>\n",
       "      <td>0</td>\n",
       "      <td>0</td>\n",
       "      <td>0</td>\n",
       "      <td>0</td>\n",
       "      <td>0</td>\n",
       "      <td>0</td>\n",
       "      <td>No</td>\n",
       "      <td>female</td>\n",
       "      <td>Other</td>\n",
       "    </tr>\n",
       "    <tr>\n",
       "      <th>3</th>\n",
       "      <td>2021-10-11</td>\n",
       "      <td>0</td>\n",
       "      <td>0</td>\n",
       "      <td>0</td>\n",
       "      <td>0</td>\n",
       "      <td>0</td>\n",
       "      <td>0</td>\n",
       "      <td>Yes</td>\n",
       "      <td>female</td>\n",
       "      <td>Other</td>\n",
       "    </tr>\n",
       "    <tr>\n",
       "      <th>4</th>\n",
       "      <td>2021-10-11</td>\n",
       "      <td>0</td>\n",
       "      <td>0</td>\n",
       "      <td>0</td>\n",
       "      <td>0</td>\n",
       "      <td>0</td>\n",
       "      <td>0</td>\n",
       "      <td>Yes</td>\n",
       "      <td>female</td>\n",
       "      <td>Other</td>\n",
       "    </tr>\n",
       "    <tr>\n",
       "      <th>...</th>\n",
       "      <td>...</td>\n",
       "      <td>...</td>\n",
       "      <td>...</td>\n",
       "      <td>...</td>\n",
       "      <td>...</td>\n",
       "      <td>...</td>\n",
       "      <td>...</td>\n",
       "      <td>...</td>\n",
       "      <td>...</td>\n",
       "      <td>...</td>\n",
       "    </tr>\n",
       "    <tr>\n",
       "      <th>5861475</th>\n",
       "      <td>2020-03-20</td>\n",
       "      <td>1</td>\n",
       "      <td>1</td>\n",
       "      <td>0</td>\n",
       "      <td>0</td>\n",
       "      <td>0</td>\n",
       "      <td>0</td>\n",
       "      <td>No</td>\n",
       "      <td>female</td>\n",
       "      <td>Other</td>\n",
       "    </tr>\n",
       "    <tr>\n",
       "      <th>5861476</th>\n",
       "      <td>2020-03-20</td>\n",
       "      <td>0</td>\n",
       "      <td>0</td>\n",
       "      <td>0</td>\n",
       "      <td>0</td>\n",
       "      <td>0</td>\n",
       "      <td>0</td>\n",
       "      <td>No</td>\n",
       "      <td>male</td>\n",
       "      <td>Other</td>\n",
       "    </tr>\n",
       "    <tr>\n",
       "      <th>5861477</th>\n",
       "      <td>2020-03-20</td>\n",
       "      <td>0</td>\n",
       "      <td>0</td>\n",
       "      <td>0</td>\n",
       "      <td>0</td>\n",
       "      <td>0</td>\n",
       "      <td>0</td>\n",
       "      <td>No</td>\n",
       "      <td>female</td>\n",
       "      <td>Other</td>\n",
       "    </tr>\n",
       "    <tr>\n",
       "      <th>5861478</th>\n",
       "      <td>2020-03-20</td>\n",
       "      <td>0</td>\n",
       "      <td>0</td>\n",
       "      <td>0</td>\n",
       "      <td>0</td>\n",
       "      <td>0</td>\n",
       "      <td>0</td>\n",
       "      <td>No</td>\n",
       "      <td>male</td>\n",
       "      <td>Other</td>\n",
       "    </tr>\n",
       "    <tr>\n",
       "      <th>5861479</th>\n",
       "      <td>2020-03-20</td>\n",
       "      <td>0</td>\n",
       "      <td>0</td>\n",
       "      <td>0</td>\n",
       "      <td>0</td>\n",
       "      <td>0</td>\n",
       "      <td>0</td>\n",
       "      <td>No</td>\n",
       "      <td>male</td>\n",
       "      <td>Other</td>\n",
       "    </tr>\n",
       "  </tbody>\n",
       "</table>\n",
       "<p>5861480 rows × 10 columns</p>\n",
       "</div>"
      ],
      "text/plain": [
       "          test_date  cough  fever  sore_throat  shortness_of_breath  \\\n",
       "0        2021-10-11      0      0            0                    0   \n",
       "1        2021-10-11      0      0            0                    0   \n",
       "2        2021-10-11      0      0            0                    0   \n",
       "3        2021-10-11      0      0            0                    0   \n",
       "4        2021-10-11      0      0            0                    0   \n",
       "...             ...    ...    ...          ...                  ...   \n",
       "5861475  2020-03-20      1      1            0                    0   \n",
       "5861476  2020-03-20      0      0            0                    0   \n",
       "5861477  2020-03-20      0      0            0                    0   \n",
       "5861478  2020-03-20      0      0            0                    0   \n",
       "5861479  2020-03-20      0      0            0                    0   \n",
       "\n",
       "         head_ache  corona_result age_60_and_above  gender test_indication  \n",
       "0                0              0              Yes  female           Other  \n",
       "1                0              0              Yes    male           Other  \n",
       "2                0              0               No  female           Other  \n",
       "3                0              0              Yes  female           Other  \n",
       "4                0              0              Yes  female           Other  \n",
       "...            ...            ...              ...     ...             ...  \n",
       "5861475          0              0               No  female           Other  \n",
       "5861476          0              0               No    male           Other  \n",
       "5861477          0              0               No  female           Other  \n",
       "5861478          0              0               No    male           Other  \n",
       "5861479          0              0               No    male           Other  \n",
       "\n",
       "[5861480 rows x 10 columns]"
      ]
     },
     "execution_count": 5,
     "metadata": {},
     "output_type": "execute_result"
    }
   ],
   "source": [
    "df"
   ]
  },
  {
   "cell_type": "markdown",
   "id": "093ecc28",
   "metadata": {},
   "source": [
    "**Checking of dataset properties**"
   ]
  },
  {
   "cell_type": "code",
   "execution_count": 6,
   "id": "88d6eb0f",
   "metadata": {
    "scrolled": false
   },
   "outputs": [
    {
     "name": "stdout",
     "output_type": "stream",
     "text": [
      "<class 'pandas.core.frame.DataFrame'>\n",
      "RangeIndex: 5861480 entries, 0 to 5861479\n",
      "Data columns (total 10 columns):\n",
      " #   Column               Dtype \n",
      "---  ------               ----- \n",
      " 0   test_date            object\n",
      " 1   cough                int64 \n",
      " 2   fever                int64 \n",
      " 3   sore_throat          int64 \n",
      " 4   shortness_of_breath  int64 \n",
      " 5   head_ache            int64 \n",
      " 6   corona_result        int64 \n",
      " 7   age_60_and_above     object\n",
      " 8   gender               object\n",
      " 9   test_indication      object\n",
      "dtypes: int64(6), object(4)\n",
      "memory usage: 447.2+ MB\n"
     ]
    }
   ],
   "source": [
    "df.info()"
   ]
  },
  {
   "cell_type": "markdown",
   "id": "33530f7d",
   "metadata": {},
   "source": [
    "**Checking integrity of the dataset**"
   ]
  },
  {
   "cell_type": "code",
   "execution_count": 7,
   "id": "94b6f323",
   "metadata": {
    "scrolled": false
   },
   "outputs": [
    {
     "data": {
      "text/plain": [
       "test_date              0\n",
       "cough                  0\n",
       "fever                  0\n",
       "sore_throat            0\n",
       "shortness_of_breath    0\n",
       "head_ache              0\n",
       "corona_result          0\n",
       "age_60_and_above       0\n",
       "gender                 0\n",
       "test_indication        0\n",
       "dtype: int64"
      ]
     },
     "execution_count": 7,
     "metadata": {},
     "output_type": "execute_result"
    }
   ],
   "source": [
    "df.isnull().sum()"
   ]
  },
  {
   "cell_type": "code",
   "execution_count": 8,
   "id": "78a20530",
   "metadata": {},
   "outputs": [],
   "source": [
    "# Dataset is clean and need no further cleaning"
   ]
  },
  {
   "cell_type": "markdown",
   "id": "c10129b6",
   "metadata": {},
   "source": [
    "**Getting the correlation matrix of the dataset**"
   ]
  },
  {
   "cell_type": "code",
   "execution_count": 9,
   "id": "a38d4ad3",
   "metadata": {
    "scrolled": false
   },
   "outputs": [
    {
     "data": {
      "text/plain": [
       "<AxesSubplot:>"
      ]
     },
     "execution_count": 9,
     "metadata": {},
     "output_type": "execute_result"
    },
    {
     "data": {
      "image/png": "[encoded data removed]",
      "text/plain": [
       "<Figure size 640x480 with 2 Axes>"
      ]
     },
     "metadata": {},
     "output_type": "display_data"
    }
   ],
   "source": [
    "cor = df.corr()\n",
    "\n",
    "sns.heatmap(cor, annot = True)\n"
   ]
  },
  {
   "cell_type": "markdown",
   "id": "f3dc07fc",
   "metadata": {},
   "source": [
    "**Observation**\n",
    "\n",
    "Most of the variables are highly correlative with the target variable"
   ]
  },
  {
   "cell_type": "code",
   "execution_count": 10,
   "id": "2e71b46c",
   "metadata": {
    "scrolled": false
   },
   "outputs": [
    {
     "data": {
      "image/png": "[encoded data removed]",
      "text/plain": [
       "<Figure size 640x480 with 1 Axes>"
      ]
     },
     "metadata": {},
     "output_type": "display_data"
    }
   ],
   "source": [
    "sns.countplot(data = df, x = 'corona_result', palette = 'YlGnBu')\n",
    "plt.ylabel('Count')\n",
    "plt.title('Count of Corona_result in dataset')\n",
    "plt.show()"
   ]
  },
  {
   "cell_type": "markdown",
   "id": "9cb80357",
   "metadata": {},
   "source": [
    "Observation:\n",
    "\n",
    "There is an overrepresentation of negative cases over positive cases. This can lead to false negatives which would be a costly inefficiency of any model applied to this dataset. Undersampling will be applied!"
   ]
  },
  {
   "cell_type": "markdown",
   "id": "f10b6750",
   "metadata": {},
   "source": [
    "**Creating subplots to visualize the effect of diferent symptoms on test result**"
   ]
  },
  {
   "cell_type": "code",
   "execution_count": 11,
   "id": "14ac8e8e",
   "metadata": {},
   "outputs": [
    {
     "data": {
      "image/png": "[encoded data removed]",
      "text/plain": [
       "<Figure size 800x800 with 4 Axes>"
      ]
     },
     "metadata": {},
     "output_type": "display_data"
    }
   ],
   "source": [
    "fig, ax = plt.subplots(2, 2, figsize = (8, 8))\n",
    "\n",
    "# Set plots for all axes\n",
    "ax[0, 0].set_title('Cough count plot')\n",
    "sns.countplot(data = df, x = 'cough', hue = 'corona_result', ax = ax[0, 0] )\n",
    "\n",
    "ax[0, 1].set_title('Fever count plot')\n",
    "sns.countplot(data = df, x = 'fever', hue = 'corona_result', ax = ax[0, 1] )\n",
    "\n",
    "ax[1, 0].set_title('sore throat count plot')\n",
    "sns.countplot(data = df, x = 'sore_throat', hue = 'corona_result', ax = ax[1, 0] )\n",
    "\n",
    "ax[1, 1].set_title('Head ache count plot')\n",
    "sns.countplot(data = df, x = 'head_ache', hue = 'corona_result', ax = ax[1, 1] )\n",
    "fig.suptitle('4 plots')\n",
    "\n",
    "# Adjust the spacing of the subplots vertically\n",
    "fig.subplots_adjust(hspace = .4)\n",
    "\n",
    "plt.show()"
   ]
  },
  {
   "cell_type": "markdown",
   "id": "32a0f33a",
   "metadata": {},
   "source": [
    "**General observation**\n",
    "- Majority of cases are negative\n",
    "- From sore throat case, the positive to negative ratio was higher than other symptoms, showing that soar throat was and important indicator of the infection"
   ]
  },
  {
   "cell_type": "code",
   "execution_count": 12,
   "id": "9a7c42e2",
   "metadata": {},
   "outputs": [
    {
     "data": {
      "text/plain": [
       "array(['Other', 'Contact with confirmed', 'Abroad'], dtype=object)"
      ]
     },
     "execution_count": 12,
     "metadata": {},
     "output_type": "execute_result"
    }
   ],
   "source": [
    "df['test_indication'].unique()"
   ]
  },
  {
   "cell_type": "code",
   "execution_count": 13,
   "id": "e66d87ff",
   "metadata": {},
   "outputs": [],
   "source": [
    "# sns.pairplot(data = df)"
   ]
  },
  {
   "cell_type": "markdown",
   "id": "8559dac5",
   "metadata": {},
   "source": [
    "## **Data Preparation**"
   ]
  },
  {
   "cell_type": "markdown",
   "id": "76a7b4ff",
   "metadata": {},
   "source": [
    "**Assigning the 'y' variable to the column 'corona_result'**"
   ]
  },
  {
   "cell_type": "code",
   "execution_count": 14,
   "id": "5c48b4e8",
   "metadata": {},
   "outputs": [],
   "source": [
    "#Target Feature\n",
    "y=df['corona_result']"
   ]
  },
  {
   "cell_type": "markdown",
   "id": "b90f60dd",
   "metadata": {},
   "source": [
    "**Confirmation of outcome**"
   ]
  },
  {
   "cell_type": "code",
   "execution_count": 15,
   "id": "a3fd1e45",
   "metadata": {
    "scrolled": true
   },
   "outputs": [
    {
     "data": {
      "text/plain": [
       "0          0\n",
       "1          0\n",
       "2          0\n",
       "3          0\n",
       "4          0\n",
       "          ..\n",
       "5861475    0\n",
       "5861476    0\n",
       "5861477    0\n",
       "5861478    0\n",
       "5861479    0\n",
       "Name: corona_result, Length: 5861480, dtype: int64"
      ]
     },
     "execution_count": 15,
     "metadata": {},
     "output_type": "execute_result"
    }
   ],
   "source": [
    "y"
   ]
  },
  {
   "cell_type": "markdown",
   "id": "968bd68e",
   "metadata": {},
   "source": [
    "**We will be dropping columns that won't be needed for the machine learning model and which wont impact our outcome\n",
    "Columns to be dropped: 'test_date','corona_result (already the y variable)','age_60_and_above','gender' and'test_indication'**\n"
   ]
  },
  {
   "cell_type": "code",
   "execution_count": 16,
   "id": "9deb457a",
   "metadata": {},
   "outputs": [],
   "source": [
    "#Independent Feature\n",
    "x=df.drop(['test_date','corona_result','age_60_and_above','gender','test_indication'], axis=1)"
   ]
  },
  {
   "cell_type": "markdown",
   "id": "46f528a1",
   "metadata": {},
   "source": [
    "**Confirmation of Outcome**"
   ]
  },
  {
   "cell_type": "code",
   "execution_count": 17,
   "id": "c05d6035",
   "metadata": {},
   "outputs": [
    {
     "data": {
      "text/html": [
       "<div>\n",
       "<style scoped>\n",
       "    .dataframe tbody tr th:only-of-type {\n",
       "        vertical-align: middle;\n",
       "    }\n",
       "\n",
       "    .dataframe tbody tr th {\n",
       "        vertical-align: top;\n",
       "    }\n",
       "\n",
       "    .dataframe thead th {\n",
       "        text-align: right;\n",
       "    }\n",
       "</style>\n",
       "<table border=\"1\" class=\"dataframe\">\n",
       "  <thead>\n",
       "    <tr style=\"text-align: right;\">\n",
       "      <th></th>\n",
       "      <th>cough</th>\n",
       "      <th>fever</th>\n",
       "      <th>sore_throat</th>\n",
       "      <th>shortness_of_breath</th>\n",
       "      <th>head_ache</th>\n",
       "    </tr>\n",
       "  </thead>\n",
       "  <tbody>\n",
       "    <tr>\n",
       "      <th>0</th>\n",
       "      <td>0</td>\n",
       "      <td>0</td>\n",
       "      <td>0</td>\n",
       "      <td>0</td>\n",
       "      <td>0</td>\n",
       "    </tr>\n",
       "    <tr>\n",
       "      <th>1</th>\n",
       "      <td>0</td>\n",
       "      <td>0</td>\n",
       "      <td>0</td>\n",
       "      <td>0</td>\n",
       "      <td>0</td>\n",
       "    </tr>\n",
       "    <tr>\n",
       "      <th>2</th>\n",
       "      <td>0</td>\n",
       "      <td>0</td>\n",
       "      <td>0</td>\n",
       "      <td>0</td>\n",
       "      <td>0</td>\n",
       "    </tr>\n",
       "    <tr>\n",
       "      <th>3</th>\n",
       "      <td>0</td>\n",
       "      <td>0</td>\n",
       "      <td>0</td>\n",
       "      <td>0</td>\n",
       "      <td>0</td>\n",
       "    </tr>\n",
       "    <tr>\n",
       "      <th>4</th>\n",
       "      <td>0</td>\n",
       "      <td>0</td>\n",
       "      <td>0</td>\n",
       "      <td>0</td>\n",
       "      <td>0</td>\n",
       "    </tr>\n",
       "    <tr>\n",
       "      <th>...</th>\n",
       "      <td>...</td>\n",
       "      <td>...</td>\n",
       "      <td>...</td>\n",
       "      <td>...</td>\n",
       "      <td>...</td>\n",
       "    </tr>\n",
       "    <tr>\n",
       "      <th>5861475</th>\n",
       "      <td>1</td>\n",
       "      <td>1</td>\n",
       "      <td>0</td>\n",
       "      <td>0</td>\n",
       "      <td>0</td>\n",
       "    </tr>\n",
       "    <tr>\n",
       "      <th>5861476</th>\n",
       "      <td>0</td>\n",
       "      <td>0</td>\n",
       "      <td>0</td>\n",
       "      <td>0</td>\n",
       "      <td>0</td>\n",
       "    </tr>\n",
       "    <tr>\n",
       "      <th>5861477</th>\n",
       "      <td>0</td>\n",
       "      <td>0</td>\n",
       "      <td>0</td>\n",
       "      <td>0</td>\n",
       "      <td>0</td>\n",
       "    </tr>\n",
       "    <tr>\n",
       "      <th>5861478</th>\n",
       "      <td>0</td>\n",
       "      <td>0</td>\n",
       "      <td>0</td>\n",
       "      <td>0</td>\n",
       "      <td>0</td>\n",
       "    </tr>\n",
       "    <tr>\n",
       "      <th>5861479</th>\n",
       "      <td>0</td>\n",
       "      <td>0</td>\n",
       "      <td>0</td>\n",
       "      <td>0</td>\n",
       "      <td>0</td>\n",
       "    </tr>\n",
       "  </tbody>\n",
       "</table>\n",
       "<p>5861480 rows × 5 columns</p>\n",
       "</div>"
      ],
      "text/plain": [
       "         cough  fever  sore_throat  shortness_of_breath  head_ache\n",
       "0            0      0            0                    0          0\n",
       "1            0      0            0                    0          0\n",
       "2            0      0            0                    0          0\n",
       "3            0      0            0                    0          0\n",
       "4            0      0            0                    0          0\n",
       "...        ...    ...          ...                  ...        ...\n",
       "5861475      1      1            0                    0          0\n",
       "5861476      0      0            0                    0          0\n",
       "5861477      0      0            0                    0          0\n",
       "5861478      0      0            0                    0          0\n",
       "5861479      0      0            0                    0          0\n",
       "\n",
       "[5861480 rows x 5 columns]"
      ]
     },
     "execution_count": 17,
     "metadata": {},
     "output_type": "execute_result"
    }
   ],
   "source": [
    "x"
   ]
  },
  {
   "cell_type": "markdown",
   "id": "d6627775",
   "metadata": {},
   "source": [
    "**Checking the disparity in negaive and positive values in our target variabe**"
   ]
  },
  {
   "cell_type": "code",
   "execution_count": 18,
   "id": "acad5a79",
   "metadata": {
    "scrolled": false
   },
   "outputs": [
    {
     "data": {
      "text/plain": [
       "0    5355807\n",
       "1     505673\n",
       "Name: corona_result, dtype: int64"
      ]
     },
     "execution_count": 18,
     "metadata": {},
     "output_type": "execute_result"
    }
   ],
   "source": [
    "df['corona_result'].value_counts()"
   ]
  },
  {
   "cell_type": "markdown",
   "id": "fa5d6a7e",
   "metadata": {},
   "source": [
    "Observation: There is an excessive volume of negative results over positive. This will affect our trainiig model as model will tilt or by biased twards negative results. Under or over sampling will be implimented"
   ]
  },
  {
   "cell_type": "code",
   "execution_count": 19,
   "id": "f82d8fa4",
   "metadata": {},
   "outputs": [],
   "source": [
    "#!pip install imblearn\n",
    "\n",
    "from imblearn.under_sampling import RandomUnderSampler\n",
    "#from imblearn.over_sampling import RandomOverSampler"
   ]
  },
  {
   "cell_type": "code",
   "execution_count": 20,
   "id": "5c53373d",
   "metadata": {},
   "outputs": [],
   "source": [
    "# Undersampling of the class with the majority count\n",
    "undersample = RandomUnderSampler(sampling_strategy = {0: 500000, 1: 500000}, random_state = 33)\n",
    "x_under, y_under = undersample.fit_resample(x, y )"
   ]
  },
  {
   "cell_type": "code",
   "execution_count": 21,
   "id": "51c59320",
   "metadata": {
    "scrolled": true
   },
   "outputs": [
    {
     "data": {
      "text/plain": [
       "0    500000\n",
       "1    500000\n",
       "Name: corona_result, dtype: int64"
      ]
     },
     "execution_count": 21,
     "metadata": {},
     "output_type": "execute_result"
    }
   ],
   "source": [
    "y_under.value_counts()"
   ]
  },
  {
   "cell_type": "code",
   "execution_count": 22,
   "id": "5fb4ca6e",
   "metadata": {},
   "outputs": [
    {
     "name": "stdout",
     "output_type": "stream",
     "text": [
      "(800000, 5) (200000, 5) (800000,) (200000,)\n",
      "\n",
      "0    400013\n",
      "1    399987\n",
      "Name: corona_result, dtype: int64\n",
      "\n",
      "1    100013\n",
      "0     99987\n",
      "Name: corona_result, dtype: int64\n"
     ]
    }
   ],
   "source": [
    "#Setting  Train:Test Ratio as 80:20\n",
    "\n",
    "x_train, x_test, y_train, y_test = train_test_split(x_under, y_under, test_size=0.2, random_state=42)\n",
    "\n",
    "print (x_train.shape, x_test.shape, y_train.shape, y_test.shape)\n",
    "print('\\n\\n')\n",
    "print (y_train.value_counts())\n",
    "print('\\n\\n')\n",
    "print (y_test.value_counts())"
   ]
  },
  {
   "cell_type": "markdown",
   "id": "d8e53354",
   "metadata": {},
   "source": [
    "**Confirming the Outcome (Training Data)**"
   ]
  },
  {
   "cell_type": "code",
   "execution_count": 23,
   "id": "ded0490e",
   "metadata": {
    "scrolled": false
   },
   "outputs": [
    {
     "data": {
      "text/html": [
       "<div>\n",
       "<style scoped>\n",
       "    .dataframe tbody tr th:only-of-type {\n",
       "        vertical-align: middle;\n",
       "    }\n",
       "\n",
       "    .dataframe tbody tr th {\n",
       "        vertical-align: top;\n",
       "    }\n",
       "\n",
       "    .dataframe thead th {\n",
       "        text-align: right;\n",
       "    }\n",
       "</style>\n",
       "<table border=\"1\" class=\"dataframe\">\n",
       "  <thead>\n",
       "    <tr style=\"text-align: right;\">\n",
       "      <th></th>\n",
       "      <th>cough</th>\n",
       "      <th>fever</th>\n",
       "      <th>sore_throat</th>\n",
       "      <th>shortness_of_breath</th>\n",
       "      <th>head_ache</th>\n",
       "    </tr>\n",
       "  </thead>\n",
       "  <tbody>\n",
       "    <tr>\n",
       "      <th>566853</th>\n",
       "      <td>0</td>\n",
       "      <td>0</td>\n",
       "      <td>0</td>\n",
       "      <td>0</td>\n",
       "      <td>0</td>\n",
       "    </tr>\n",
       "    <tr>\n",
       "      <th>382311</th>\n",
       "      <td>0</td>\n",
       "      <td>0</td>\n",
       "      <td>0</td>\n",
       "      <td>0</td>\n",
       "      <td>0</td>\n",
       "    </tr>\n",
       "    <tr>\n",
       "      <th>241519</th>\n",
       "      <td>0</td>\n",
       "      <td>0</td>\n",
       "      <td>0</td>\n",
       "      <td>0</td>\n",
       "      <td>1</td>\n",
       "    </tr>\n",
       "    <tr>\n",
       "      <th>719220</th>\n",
       "      <td>0</td>\n",
       "      <td>0</td>\n",
       "      <td>0</td>\n",
       "      <td>0</td>\n",
       "      <td>0</td>\n",
       "    </tr>\n",
       "    <tr>\n",
       "      <th>905718</th>\n",
       "      <td>0</td>\n",
       "      <td>0</td>\n",
       "      <td>1</td>\n",
       "      <td>0</td>\n",
       "      <td>0</td>\n",
       "    </tr>\n",
       "    <tr>\n",
       "      <th>...</th>\n",
       "      <td>...</td>\n",
       "      <td>...</td>\n",
       "      <td>...</td>\n",
       "      <td>...</td>\n",
       "      <td>...</td>\n",
       "    </tr>\n",
       "    <tr>\n",
       "      <th>259178</th>\n",
       "      <td>0</td>\n",
       "      <td>0</td>\n",
       "      <td>0</td>\n",
       "      <td>0</td>\n",
       "      <td>0</td>\n",
       "    </tr>\n",
       "    <tr>\n",
       "      <th>365838</th>\n",
       "      <td>0</td>\n",
       "      <td>0</td>\n",
       "      <td>0</td>\n",
       "      <td>0</td>\n",
       "      <td>0</td>\n",
       "    </tr>\n",
       "    <tr>\n",
       "      <th>131932</th>\n",
       "      <td>0</td>\n",
       "      <td>0</td>\n",
       "      <td>0</td>\n",
       "      <td>0</td>\n",
       "      <td>0</td>\n",
       "    </tr>\n",
       "    <tr>\n",
       "      <th>671155</th>\n",
       "      <td>0</td>\n",
       "      <td>0</td>\n",
       "      <td>0</td>\n",
       "      <td>0</td>\n",
       "      <td>0</td>\n",
       "    </tr>\n",
       "    <tr>\n",
       "      <th>121958</th>\n",
       "      <td>0</td>\n",
       "      <td>0</td>\n",
       "      <td>0</td>\n",
       "      <td>0</td>\n",
       "      <td>0</td>\n",
       "    </tr>\n",
       "  </tbody>\n",
       "</table>\n",
       "<p>800000 rows × 5 columns</p>\n",
       "</div>"
      ],
      "text/plain": [
       "        cough  fever  sore_throat  shortness_of_breath  head_ache\n",
       "566853      0      0            0                    0          0\n",
       "382311      0      0            0                    0          0\n",
       "241519      0      0            0                    0          1\n",
       "719220      0      0            0                    0          0\n",
       "905718      0      0            1                    0          0\n",
       "...       ...    ...          ...                  ...        ...\n",
       "259178      0      0            0                    0          0\n",
       "365838      0      0            0                    0          0\n",
       "131932      0      0            0                    0          0\n",
       "671155      0      0            0                    0          0\n",
       "121958      0      0            0                    0          0\n",
       "\n",
       "[800000 rows x 5 columns]"
      ]
     },
     "execution_count": 23,
     "metadata": {},
     "output_type": "execute_result"
    }
   ],
   "source": [
    "x_train"
   ]
  },
  {
   "cell_type": "markdown",
   "id": "0fe1c451",
   "metadata": {},
   "source": [
    "**Confirming the Outcome (test Data)**"
   ]
  },
  {
   "cell_type": "code",
   "execution_count": 24,
   "id": "a8676d7e",
   "metadata": {
    "scrolled": false
   },
   "outputs": [
    {
     "data": {
      "text/html": [
       "<div>\n",
       "<style scoped>\n",
       "    .dataframe tbody tr th:only-of-type {\n",
       "        vertical-align: middle;\n",
       "    }\n",
       "\n",
       "    .dataframe tbody tr th {\n",
       "        vertical-align: top;\n",
       "    }\n",
       "\n",
       "    .dataframe thead th {\n",
       "        text-align: right;\n",
       "    }\n",
       "</style>\n",
       "<table border=\"1\" class=\"dataframe\">\n",
       "  <thead>\n",
       "    <tr style=\"text-align: right;\">\n",
       "      <th></th>\n",
       "      <th>cough</th>\n",
       "      <th>fever</th>\n",
       "      <th>sore_throat</th>\n",
       "      <th>shortness_of_breath</th>\n",
       "      <th>head_ache</th>\n",
       "    </tr>\n",
       "  </thead>\n",
       "  <tbody>\n",
       "    <tr>\n",
       "      <th>987231</th>\n",
       "      <td>0</td>\n",
       "      <td>0</td>\n",
       "      <td>0</td>\n",
       "      <td>0</td>\n",
       "      <td>0</td>\n",
       "    </tr>\n",
       "    <tr>\n",
       "      <th>79954</th>\n",
       "      <td>0</td>\n",
       "      <td>0</td>\n",
       "      <td>0</td>\n",
       "      <td>0</td>\n",
       "      <td>0</td>\n",
       "    </tr>\n",
       "    <tr>\n",
       "      <th>567130</th>\n",
       "      <td>1</td>\n",
       "      <td>0</td>\n",
       "      <td>1</td>\n",
       "      <td>0</td>\n",
       "      <td>1</td>\n",
       "    </tr>\n",
       "    <tr>\n",
       "      <th>500891</th>\n",
       "      <td>0</td>\n",
       "      <td>0</td>\n",
       "      <td>0</td>\n",
       "      <td>0</td>\n",
       "      <td>0</td>\n",
       "    </tr>\n",
       "    <tr>\n",
       "      <th>55399</th>\n",
       "      <td>0</td>\n",
       "      <td>0</td>\n",
       "      <td>0</td>\n",
       "      <td>0</td>\n",
       "      <td>0</td>\n",
       "    </tr>\n",
       "    <tr>\n",
       "      <th>...</th>\n",
       "      <td>...</td>\n",
       "      <td>...</td>\n",
       "      <td>...</td>\n",
       "      <td>...</td>\n",
       "      <td>...</td>\n",
       "    </tr>\n",
       "    <tr>\n",
       "      <th>90245</th>\n",
       "      <td>0</td>\n",
       "      <td>0</td>\n",
       "      <td>0</td>\n",
       "      <td>0</td>\n",
       "      <td>0</td>\n",
       "    </tr>\n",
       "    <tr>\n",
       "      <th>639296</th>\n",
       "      <td>0</td>\n",
       "      <td>1</td>\n",
       "      <td>0</td>\n",
       "      <td>0</td>\n",
       "      <td>0</td>\n",
       "    </tr>\n",
       "    <tr>\n",
       "      <th>311939</th>\n",
       "      <td>0</td>\n",
       "      <td>0</td>\n",
       "      <td>0</td>\n",
       "      <td>0</td>\n",
       "      <td>0</td>\n",
       "    </tr>\n",
       "    <tr>\n",
       "      <th>324459</th>\n",
       "      <td>1</td>\n",
       "      <td>0</td>\n",
       "      <td>0</td>\n",
       "      <td>0</td>\n",
       "      <td>1</td>\n",
       "    </tr>\n",
       "    <tr>\n",
       "      <th>390499</th>\n",
       "      <td>1</td>\n",
       "      <td>0</td>\n",
       "      <td>1</td>\n",
       "      <td>0</td>\n",
       "      <td>0</td>\n",
       "    </tr>\n",
       "  </tbody>\n",
       "</table>\n",
       "<p>200000 rows × 5 columns</p>\n",
       "</div>"
      ],
      "text/plain": [
       "        cough  fever  sore_throat  shortness_of_breath  head_ache\n",
       "987231      0      0            0                    0          0\n",
       "79954       0      0            0                    0          0\n",
       "567130      1      0            1                    0          1\n",
       "500891      0      0            0                    0          0\n",
       "55399       0      0            0                    0          0\n",
       "...       ...    ...          ...                  ...        ...\n",
       "90245       0      0            0                    0          0\n",
       "639296      0      1            0                    0          0\n",
       "311939      0      0            0                    0          0\n",
       "324459      1      0            0                    0          1\n",
       "390499      1      0            1                    0          0\n",
       "\n",
       "[200000 rows x 5 columns]"
      ]
     },
     "execution_count": 24,
     "metadata": {},
     "output_type": "execute_result"
    }
   ],
   "source": [
    "x_test"
   ]
  },
  {
   "cell_type": "markdown",
   "id": "fb492e68",
   "metadata": {},
   "source": [
    "**USING RANDOM FOREST CLASSIFIER MODEL**"
   ]
  },
  {
   "cell_type": "code",
   "execution_count": 25,
   "id": "ba42d6e8",
   "metadata": {},
   "outputs": [],
   "source": [
    "# Initializing the random forest classifier \n",
    "rfc = RandomForestClassifier(n_estimators=100, max_depth=10, random_state=42)\n"
   ]
  },
  {
   "cell_type": "code",
   "execution_count": 26,
   "id": "83624ec6",
   "metadata": {
    "scrolled": true
   },
   "outputs": [
    {
     "data": {
      "text/plain": [
       "RandomForestClassifier(max_depth=10, random_state=42)"
      ]
     },
     "execution_count": 26,
     "metadata": {},
     "output_type": "execute_result"
    }
   ],
   "source": [
    "# Fitting the model to the training data\n",
    "rfc.fit(x_train, y_train)\n"
   ]
  },
  {
   "cell_type": "code",
   "execution_count": 27,
   "id": "04b0b276",
   "metadata": {},
   "outputs": [
    {
     "name": "stdout",
     "output_type": "stream",
     "text": [
      "Random forest Classifer\n",
      "--------------------\n",
      "Accuracy: 68.36\n",
      "Precision: 87.82\n",
      "Recall: 42.64\n",
      "f1_score: 5.74\n"
     ]
    }
   ],
   "source": [
    "# Making predictions on the testing data\n",
    "y_pred = rfc.predict(x_test)\n",
    "\n",
    "from sklearn.metrics import accuracy_score\n",
    "accuracy1 = accuracy_score(y_test, y_pred)\n",
    "precision1 = precision_score(y_test, y_pred)\n",
    "recall1 = recall_score(y_test, y_pred)\n",
    "f1_score1 = f1_score(y_test, y_pred)\n",
    "\n",
    "print('Random forest Classifer\\n--------------------')\n",
    "print(f'Accuracy: {round(accuracy1 * 100, 2)}')\n",
    "print(f'Precision: {round(precision1 * 100, 2)}')\n",
    "print(f'Recall: {round(recall1 * 100, 2)}')\n",
    "print(f'f1_score: {round(f1_score1 * 10, 2)}')"
   ]
  },
  {
   "cell_type": "markdown",
   "id": "f82579d5",
   "metadata": {},
   "source": [
    "**Plotting the confusion matrix for Random Forest**"
   ]
  },
  {
   "cell_type": "code",
   "execution_count": 28,
   "id": "722592d5",
   "metadata": {
    "scrolled": false
   },
   "outputs": [
    {
     "data": {
      "image/png": "[encoded data removed]",
      "text/plain": [
       "<Figure size 640x480 with 2 Axes>"
      ]
     },
     "metadata": {},
     "output_type": "display_data"
    }
   ],
   "source": [
    "#Plot confusion matrix for Random Forest Classifier\n",
    "matx = confusion_matrix(y_test, y_pred)\n",
    "sns.heatmap(matx, annot = True, fmt = '.2f')\n",
    "plt.xlabel('predicted')\n",
    "plt.ylabel('True values')\n",
    "plt.title('Random Forest Classifier')\n",
    "plt.show()"
   ]
  },
  {
   "cell_type": "markdown",
   "id": "eb9c84dc",
   "metadata": {},
   "source": [
    "**Observation**\n",
    "- A lot of positive cases were predicted as negative"
   ]
  },
  {
   "cell_type": "markdown",
   "id": "883d2617",
   "metadata": {},
   "source": [
    "Hyper Parameter Tunning "
   ]
  },
  {
   "cell_type": "code",
   "execution_count": 29,
   "id": "8977ad90",
   "metadata": {},
   "outputs": [],
   "source": [
    "# from sklearn.model_selection import GridSearchCV\n",
    "\n",
    "# model_grid_params = {\n",
    "#     'n_estimators': list(range(90, 110)),\n",
    "#     'max_depth': list(range(1, 10)),\n",
    "#     'random_state': list(range(40,60))\n",
    "# }\n",
    "\n",
    "# grid_search = GridSearchCV(rfc, model_grid_params, cv = 5)\n",
    "# grid_search.fit(x_train, y_train)\n",
    "\n",
    "# # Output griod search result\n",
    "# grid_search.best_params_"
   ]
  },
  {
   "cell_type": "markdown",
   "id": "13cc1ef4",
   "metadata": {},
   "source": [
    "**Using the XGBoot Model**"
   ]
  },
  {
   "cell_type": "code",
   "execution_count": 30,
   "id": "4f14bf65",
   "metadata": {},
   "outputs": [],
   "source": [
    "# Create an XGBoost DMatrix for the training data\n",
    "\n",
    "dtrain = xgb.DMatrix(x_train, label=y_train)\n",
    "dtest = xgb.DMatrix(x_test, label=y_test)"
   ]
  },
  {
   "cell_type": "code",
   "execution_count": 31,
   "id": "077b4da1",
   "metadata": {},
   "outputs": [],
   "source": [
    "#Defining the hyperparameters for the XGBoost model\n",
    "\n",
    "params = {\n",
    "    'max_depth': 3,\n",
    "    'eta': 0.1,\n",
    "    'objective': 'multi:softmax',\n",
    "    'num_class': 3}\n",
    "\n",
    "#Training the Model\n",
    "model = xgb.train(params, dtrain, num_boost_round=10)"
   ]
  },
  {
   "cell_type": "code",
   "execution_count": 32,
   "id": "c3f06aec",
   "metadata": {},
   "outputs": [
    {
     "name": "stdout",
     "output_type": "stream",
     "text": [
      "XG Boost Classifier\n",
      "--------------------\n",
      "Accuracy: 68.15\n",
      "Precision: 87.78\n",
      "Recall: 42.17\n",
      "f1_score: 5.7\n"
     ]
    }
   ],
   "source": [
    "# Making predictions on the testing set\n",
    "\n",
    "xgy_pred = model.predict(dtest)\n",
    "accuracy2 = accuracy_score(y_test, xgy_pred)\n",
    "\n",
    "from sklearn.metrics import accuracy_score\n",
    "accuracy2 = accuracy_score(y_test, xgy_pred)\n",
    "precision2 = precision_score(y_test, xgy_pred)\n",
    "recall2 = recall_score(y_test, xgy_pred)\n",
    "f1_score2 = f1_score(y_test, xgy_pred)\n",
    "\n",
    "print('XG Boost Classifier\\n--------------------')\n",
    "print(f'Accuracy: {round(accuracy2 * 100, 2)}')\n",
    "print(f'Precision: {round(precision2 * 100, 2)}')\n",
    "print(f'Recall: {round(recall2 * 100, 2)}')\n",
    "print(f'f1_score: {round(f1_score2 * 10, 2)}')\n",
    "\n"
   ]
  },
  {
   "cell_type": "markdown",
   "id": "8e8319ea",
   "metadata": {},
   "source": [
    "**Plotting confusion matrix for XGBoost**"
   ]
  },
  {
   "cell_type": "code",
   "execution_count": 33,
   "id": "d2494fa2",
   "metadata": {},
   "outputs": [
    {
     "data": {
      "image/png": "[encoded data removed]",
      "text/plain": [
       "<Figure size 640x480 with 2 Axes>"
      ]
     },
     "metadata": {},
     "output_type": "display_data"
    }
   ],
   "source": [
    "matx = confusion_matrix(y_test, xgy_pred)\n",
    "sns.heatmap(matx, annot = True, fmt = '.2f')\n",
    "plt.xlabel('predicted')\n",
    "plt.ylabel('True values')\n",
    "plt.title('XGBoost')\n",
    "plt.show()"
   ]
  },
  {
   "cell_type": "markdown",
   "id": "978ca432",
   "metadata": {},
   "source": [
    "**A lot of positive cases were predicted as negative**"
   ]
  },
  {
   "cell_type": "markdown",
   "id": "137a94c2",
   "metadata": {},
   "source": [
    "**LOGISTIC REGRESSION MODE;**"
   ]
  },
  {
   "cell_type": "code",
   "execution_count": 34,
   "id": "4cd4daf4",
   "metadata": {},
   "outputs": [],
   "source": [
    "logreg=LogisticRegression()\n",
    "logreg.fit(x_train,y_train)\n",
    "lry_pred=logreg.predict(x_test)"
   ]
  },
  {
   "cell_type": "code",
   "execution_count": 35,
   "id": "8b7b89d2",
   "metadata": {},
   "outputs": [
    {
     "name": "stdout",
     "output_type": "stream",
     "text": [
      "Logistics Regression Classifer\n",
      "--------------------\n",
      "Accuracy: 68.36\n",
      "Precision: 87.82\n",
      "Recall: 42.64\n",
      "f1_score: 5.74\n"
     ]
    }
   ],
   "source": [
    "from sklearn.metrics import accuracy_score\n",
    "accuracy3 = accuracy_score(y_test, lry_pred)\n",
    "precision3 = precision_score(y_test, lry_pred)\n",
    "recall3 = recall_score(y_test, lry_pred)\n",
    "f1_score3 = f1_score(y_test, lry_pred)\n",
    "\n",
    "print('Logistics Regression Classifer\\n--------------------')\n",
    "print(f'Accuracy: {round(accuracy3 * 100, 2)}')\n",
    "print(f'Precision: {round(precision3 * 100, 2)}')\n",
    "print(f'Recall: {round(recall3 * 100, 2)}')\n",
    "print(f'f1_score: {round(f1_score3 * 10, 2)}')"
   ]
  },
  {
   "cell_type": "markdown",
   "id": "10285314",
   "metadata": {},
   "source": [
    "**Ploting confusion matrix for Logistic Regression**"
   ]
  },
  {
   "cell_type": "code",
   "execution_count": 36,
   "id": "e9773c26",
   "metadata": {
    "scrolled": false
   },
   "outputs": [
    {
     "data": {
      "image/png": "[encoded data removed]",
      "text/plain": [
       "<Figure size 640x480 with 2 Axes>"
      ]
     },
     "metadata": {},
     "output_type": "display_data"
    }
   ],
   "source": [
    "matx = confusion_matrix(y_test, lry_pred)\n",
    "sns.heatmap(matx, annot = True, fmt = '.2f')\n",
    "plt.xlabel('predicted')\n",
    "plt.ylabel('True values')\n",
    "plt.title('Logistics Regression')\n",
    "plt.show()"
   ]
  },
  {
   "cell_type": "markdown",
   "id": "bb35f5e2",
   "metadata": {},
   "source": [
    "Observation\n",
    "\n",
    "- This model preidcted more positive cases correctly as compared to the XG Boost Model"
   ]
  },
  {
   "cell_type": "markdown",
   "id": "10b82bdc",
   "metadata": {},
   "source": [
    "**Naive Bayes classifier Model**\n"
   ]
  },
  {
   "cell_type": "code",
   "execution_count": 37,
   "id": "9f1674af",
   "metadata": {
    "scrolled": false
   },
   "outputs": [
    {
     "name": "stdout",
     "output_type": "stream",
     "text": [
      "Logistics Regression Classifer\n",
      "--------------------\n",
      "Accuracy: 68.36\n",
      "Precision: 87.82\n",
      "Recall: 42.64\n",
      "f1_score: 5.74\n"
     ]
    }
   ],
   "source": [
    "from sklearn.datasets import load_iris\n",
    "from sklearn.naive_bayes import GaussianNB\n",
    "from sklearn.model_selection import train_test_split\n",
    "from sklearn.metrics import accuracy_score\n",
    "\n",
    "# Create a Gaussian Naive Bayes classifier\n",
    "gnb = GaussianNB()\n",
    "\n",
    "# Train the classifier on the training data\n",
    "gnb.fit(x_train, y_train)\n",
    "\n",
    "# Make predictions on the testing data\n",
    "gnb_y_pred = gnb.predict(x_test)\n",
    "\n",
    "from sklearn.metrics import accuracy_score\n",
    "accuracy4 = accuracy_score(y_test, gnb_y_pred)\n",
    "precision4 = precision_score(y_test, gnb_y_pred)\n",
    "recall4 = recall_score(y_test, gnb_y_pred)\n",
    "f1_score4 = f1_score(y_test, gnb_y_pred)\n",
    "\n",
    "print('Logistics Regression Classifer\\n--------------------')\n",
    "print(f'Accuracy: {round(accuracy4 * 100, 2)}')\n",
    "print(f'Precision: {round(precision4 * 100, 2)}')\n",
    "print(f'Recall: {round(recall4 * 100, 2)}')\n",
    "print(f'f1_score: {round(f1_score4 * 10, 2)}')\n"
   ]
  },
  {
   "cell_type": "markdown",
   "id": "63f3365d",
   "metadata": {},
   "source": [
    "**Plotting confusion matrix for Naive Bayes**"
   ]
  },
  {
   "cell_type": "code",
   "execution_count": 38,
   "id": "7770b0c8",
   "metadata": {
    "scrolled": false
   },
   "outputs": [
    {
     "data": {
      "image/png": "[encoded data removed]",
      "text/plain": [
       "<Figure size 640x480 with 2 Axes>"
      ]
     },
     "metadata": {},
     "output_type": "display_data"
    }
   ],
   "source": [
    "matx = confusion_matrix(y_test, gnb_y_pred)\n",
    "sns.heatmap(matx, annot = True, fmt = '.2f')\n",
    "plt.xlabel('predicted')\n",
    "plt.ylabel('True values')\n",
    "plt.title('Naive Bayes')\n",
    "plt.show()"
   ]
  },
  {
   "cell_type": "markdown",
   "id": "238ad9a3",
   "metadata": {},
   "source": [
    "**Observation**\n",
    "- This model predicted more positive cases correctly as compared to the XG Boost Model\n",
    "- This model predicted more positive cases wrongly than it did for correctly predicting positive cases."
   ]
  },
  {
   "cell_type": "code",
   "execution_count": 39,
   "id": "1fe7b395",
   "metadata": {},
   "outputs": [
    {
     "name": "stdout",
     "output_type": "stream",
     "text": [
      "Random Forest Model Metrics:\n",
      "----------------------\n",
      "Accuracy: 68.36%\n",
      "Recall: 42.64%\n",
      "Precision: 87.82%\n",
      "F1 score: 57.41%\n",
      "\n",
      "\n",
      "XGBoost Model Metrics:\n",
      "----------------------\n",
      "Accuracy: 68.15%\n",
      "Recall: 42.17%\n",
      "Precision: 87.78%\n",
      "F1 score: 56.97%\n",
      "\n",
      "\n",
      "Logistics Regression Model Metrics:\n",
      "----------------------\n",
      "Accuracy: 68.36%\n",
      "Recall: 42.64%\n",
      "Precision: 87.82%\n",
      "F1 score: 57.41%\n",
      "\n",
      "\n",
      "Naive Bayes Model Metrics:\n",
      "----------------------\n",
      "Accuracy: 68.36%\n",
      "Recall: 42.64%\n",
      "Precision: 87.82%\n",
      "F1 score: 57.41%\n",
      "\n",
      "\n"
     ]
    }
   ],
   "source": [
    "# Print all accuracies...\n",
    "models = ['Random Forest Model', 'XGBoost Model', 'Logistics Regression Model', 'Naive Bayes Model']\n",
    "accuracies = [accuracy1, accuracy2, accuracy3, accuracy4]\n",
    "recalls = [recall1, recall2, recall3, recall4]\n",
    "precisions = [precision1, precision2, precision3, precision4]\n",
    "f1_scores = [f1_score1, f1_score2, f1_score3, f1_score4]\n",
    "\n",
    "for i in range(0, 4):\n",
    "    print(f'{models[i]} Metrics:\\n----------------------')\n",
    "    print(f'Accuracy: {round(accuracies[i] * 100, 2)}%')\n",
    "    print(f'Recall: {round(recalls[i] * 100, 2)}%')\n",
    "    print(f'Precision: {round(precisions[i] * 100, 2)}%')\n",
    "    print(f'F1 score: {round(f1_scores[i] * 100, 2)}%\\n\\n')"
   ]
  },
  {
   "cell_type": "markdown",
   "id": "021ae071",
   "metadata": {},
   "source": [
    "**Limitation and Challenges**\n",
    "\n",
    "A major challenge during the course of this research was computing resources. An attempt to get better tuned results using Hyperparameter Tuning proved abortive after 12 hours of processing with an intel core i7 processor with an 8gig RAM. Similar limitations were also observed with attempt on school computers. This demand for resource also hindered the use of certain models that needed high computing power. An example is Support Vector Machine (SVM).\n",
    "\n",
    "**CONCLUSION**\n",
    "\n",
    "Based on the above results ,  the four machine learning models (Random Forest, XGBoost, Logistics Regression, and Naive Bayes have relatively similar accuracy metrics. However, there are slight variations in recall, precision, and F1 score metrics.\n",
    "While this may seem like a relatively low accuracy, it is important to note that the performance of each algorithm may vary depending on the specific dataset, pre-processing pipeline and problem being tackled. Therefore, it is recommended to carefully consider the strengths and weaknesses of each algorithm, decide on what metric trade-offs best suit the usecase of the model and choose the most appropriate one based on the specific requirements of the task. Additionally, future research could explore techniques to improve the accuracy of these algorithms or consider alternative approaches altogether\n",
    "\n",
    "\n",
    "\n",
    "\n"
   ]
  },
  {
   "cell_type": "markdown",
   "id": "82241fa2",
   "metadata": {},
   "source": [
    "**RECOMMENDATION**\n",
    "\n",
    "\n",
    "To improve the performance of these models, the following approaches can be considered:\n",
    "\n",
    "**Feature Engineering:**\n",
    "\n",
    "Feature engineering involves selecting and transforming relevant features that can improve model performance. This would involve analyzing the relationship between features and the target variable, creating new features, and selecting the most important features that can help the model make better predictions.\n",
    "\n",
    "**Hyperparameter Tuning:**\n",
    "\n",
    "Each of the machine learning models used in the paper has various hyperparameters that can be tuned to improve performance. By using techniques like grid search or random search, we can systematically explore different hyperparameter combinations to find the best set of hyperparameters that optimize model performance.\n",
    "\n",
    "**Ensemble Learning:**\n",
    "Ensemble learning will involve combining the predictions of multiple machine learning models to improve overall performance. Techniques like bagging, boosting, and stacking can be used to create ensembles that can outperform individual models.\n",
    "\n",
    "By implementing these approaches, we may be able to improve the performance of the machine learning models and achieve higher accuracy, recall, precision, and F1 score metrics.\n"
   ]
  },
  {
   "cell_type": "code",
   "execution_count": 43,
   "id": "1260811b",
   "metadata": {},
   "outputs": [
    {
     "data": {
      "text/plain": [
       "['covid_symptom_model.pkl']"
      ]
     },
     "execution_count": 43,
     "metadata": {},
     "output_type": "execute_result"
    }
   ],
   "source": [
    "# Save the model (for later use)\n",
    "import joblib\n",
    "joblib.dump(model, 'covid_symptom_model.pkl')"
   ]
  },
  {
   "cell_type": "code",
   "execution_count": null,
   "id": "f0ffa6f8",
   "metadata": {},
   "outputs": [],
   "source": []
  }
 ],
 "metadata": {
  "kernelspec": {
   "display_name": "Python 3 (ipykernel)",
   "language": "python",
   "name": "python3"
  },
  "language_info": {
   "codemirror_mode": {
    "name": "ipython",
    "version": 3
   },
   "file_extension": ".py",
   "mimetype": "text/x-python",
   "name": "python",
   "nbconvert_exporter": "python",
   "pygments_lexer": "ipython3",
   "version": "3.9.13"
  }
 },
 "nbformat": 4,
 "nbformat_minor": 5
}
