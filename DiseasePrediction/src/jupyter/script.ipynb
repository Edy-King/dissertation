{
 "cells": [
  {
   "cell_type": "markdown",
   "id": "447ba70fd2b6c6a4",
   "metadata": {},
   "source": [
    "# Disease Prediction Using Six ML Algorithms. \n",
    "# Case Study of SARS-CoV-2 Symptoms Classification\n",
    ">## Models used: Random forest, Xgboost, Logistic Regression, Naive Bayes, K-Nearest Neigbour, Principal Component Analysis (PCA) with Support Vector Machine and (SVM) classifier"
   ]
  },
  {
   "metadata": {},
   "cell_type": "markdown",
   "source": [
    "### Introduction\n",
    "Pneumonia caused by SARS-CoV-2 emerged in Wuhan, China in December 2019 and was officially named COVID-19 by the WHO on Feb 11, 2020. The disease presents with a range of symptoms, including fever, dry cough, and fatigue, and is highly contagious through respiratory droplets and direct contact. The Chinese government and scientific community have taken rapid action to identify and contain the epidemic. Machine learning algorithms are being used to diagnose and manage the spread of the virus, which is the focus of this paper. Research has provided critical information on the biology and pathogenesis of SARS-CoV-2, as well as epidemiology, clinical features, diagnosis, management, and drug and vaccine development.\n",
    "\n",
    "### Data Description\n",
    "The data set used for this machine learning process was source from [Kaggle covid-19 dataset](https://www.kaggle.com/datasets/mykeysid10/covid19-dataset-for-year-2020). However, the original source is found at [Israel Govt databases](https://data.gov.il/dataset/covid-19/resource/d337959a-020a-4ed3-84f7-fca182292308). \n",
    "\n",
    "The data set contained 5861480 rows and 10 columns. Columns in the set are:\n",
    "\n",
    "test_date,cough,fever, sore_throat, shortness_of_breath, head_ache, corona_result, age_60_and_above, gender and test_indication. For this work, we shall be using all columns having symptoms and the the test_indication."
   ],
   "id": "489d83ab7459f33"
  },
  {
   "cell_type": "code",
   "id": "initial_id",
   "metadata": {
    "collapsed": true,
    "ExecuteTime": {
     "end_time": "2024-10-20T07:23:18.557209Z",
     "start_time": "2024-10-20T07:23:17.858502Z"
    }
   },
   "source": [
    "import pandas as pd \n",
    "import numpy as np\n",
    "import matplotlib.pyplot as plt\n",
    "import seaborn as sns\n",
    "import matplotlib as mpl\n",
    "import matplotlib.pyplot as plt\n",
    "\n",
    "### scikit learn imports  \n",
    "from sklearn.svm import SVC\n",
    "from sklearn.metrics import accuracy_score, precision_score, recall_score, f1_score, confusion_matrix, classification_report\n",
    "from sklearn.model_selection import train_test_split\n",
    "from sklearn.linear_model import LogisticRegression\n",
    "from sklearn.ensemble import RandomForestClassifier\n",
    "from sklearn.datasets import make_classification\n",
    "from sklearn.datasets import load_iris\n",
    "from sklearn.decomposition import PCA\n",
    "\n",
    "from sklearn.model_selection import train_test_split\n",
    "from sklearn.svm import SVC\n",
    "from sklearn.metrics import accuracy_score, precision_score, recall_score, f1_score, confusion_matrix\n",
    "from sklearn.neighbors import KNeighborsClassifier\n"
   ],
   "outputs": [],
   "execution_count": 1
  },
  {
   "cell_type": "code",
   "id": "dff9d0e9788efcdb",
   "metadata": {
    "ExecuteTime": {
     "end_time": "2024-10-20T07:23:18.595469Z",
     "start_time": "2024-10-20T07:23:18.581148Z"
    }
   },
   "source": [
    "### set defaults  \n",
    "mpl.rcParams['agg.path.chunksize'] = 1000\n",
    "\n",
    "# Set a general theme for plots\n",
    "sns.set_theme(style=\"whitegrid\", palette=\"pastel\")\n",
    "\n",
    "# Customize further if needed\n",
    "plt.rcParams['font.size'] = 12\n",
    "plt.rcParams['axes.titlesize'] = 14\n",
    "plt.rcParams['axes.labelsize'] = 12\n",
    "plt.rcParams['xtick.labelsize'] = 10\n",
    "plt.rcParams['ytick.labelsize'] = 10\n",
    "plt.rcParams['legend.fontsize'] = 10\n",
    "plt.rcParams['figure.titlesize'] = 16"
   ],
   "outputs": [],
   "execution_count": 2
  },
  {
   "cell_type": "markdown",
   "id": "f4aeda1992168190",
   "metadata": {},
   "source": [
    "Assigning the downloaded covid data to the variable dataframe"
   ]
  },
  {
   "cell_type": "code",
   "id": "abf7b95fc0888375",
   "metadata": {
    "ExecuteTime": {
     "end_time": "2024-10-20T07:23:26.180408Z",
     "start_time": "2024-10-20T07:23:18.648101Z"
    }
   },
   "source": [
    "df = pd.read_csv('../datasets/covid_data_2020_2021.csv')\n",
    "\n",
    "### Show dataframe sample \n",
    "df.sample(5)"
   ],
   "outputs": [
    {
     "data": {
      "text/plain": [
       "          test_date  cough  fever  sore_throat  shortness_of_breath  \\\n",
       "2728805  2020-12-28      0      0            0                    0   \n",
       "2590387  2021-01-02      0      0            0                    0   \n",
       "5289803  2020-07-21      0      0            0                    0   \n",
       "3780517  2020-11-05      0      0            0                    0   \n",
       "1066028  2021-07-26      0      0            0                    0   \n",
       "\n",
       "         head_ache corona_result age_60_and_above  gender  \\\n",
       "2728805          0      Negative               No    male   \n",
       "2590387          0      Negative               No    male   \n",
       "5289803          0      Positive               No    male   \n",
       "3780517          0      Negative               No  female   \n",
       "1066028          0      Negative               No  female   \n",
       "\n",
       "                test_indication  \n",
       "2728805                   Other  \n",
       "2590387                   Other  \n",
       "5289803  Contact with confirmed  \n",
       "3780517                   Other  \n",
       "1066028                   Other  "
      ],
      "text/html": [
       "<div>\n",
       "<style scoped>\n",
       "    .dataframe tbody tr th:only-of-type {\n",
       "        vertical-align: middle;\n",
       "    }\n",
       "\n",
       "    .dataframe tbody tr th {\n",
       "        vertical-align: top;\n",
       "    }\n",
       "\n",
       "    .dataframe thead th {\n",
       "        text-align: right;\n",
       "    }\n",
       "</style>\n",
       "<table border=\"1\" class=\"dataframe\">\n",
       "  <thead>\n",
       "    <tr style=\"text-align: right;\">\n",
       "      <th></th>\n",
       "      <th>test_date</th>\n",
       "      <th>cough</th>\n",
       "      <th>fever</th>\n",
       "      <th>sore_throat</th>\n",
       "      <th>shortness_of_breath</th>\n",
       "      <th>head_ache</th>\n",
       "      <th>corona_result</th>\n",
       "      <th>age_60_and_above</th>\n",
       "      <th>gender</th>\n",
       "      <th>test_indication</th>\n",
       "    </tr>\n",
       "  </thead>\n",
       "  <tbody>\n",
       "    <tr>\n",
       "      <th>2728805</th>\n",
       "      <td>2020-12-28</td>\n",
       "      <td>0</td>\n",
       "      <td>0</td>\n",
       "      <td>0</td>\n",
       "      <td>0</td>\n",
       "      <td>0</td>\n",
       "      <td>Negative</td>\n",
       "      <td>No</td>\n",
       "      <td>male</td>\n",
       "      <td>Other</td>\n",
       "    </tr>\n",
       "    <tr>\n",
       "      <th>2590387</th>\n",
       "      <td>2021-01-02</td>\n",
       "      <td>0</td>\n",
       "      <td>0</td>\n",
       "      <td>0</td>\n",
       "      <td>0</td>\n",
       "      <td>0</td>\n",
       "      <td>Negative</td>\n",
       "      <td>No</td>\n",
       "      <td>male</td>\n",
       "      <td>Other</td>\n",
       "    </tr>\n",
       "    <tr>\n",
       "      <th>5289803</th>\n",
       "      <td>2020-07-21</td>\n",
       "      <td>0</td>\n",
       "      <td>0</td>\n",
       "      <td>0</td>\n",
       "      <td>0</td>\n",
       "      <td>0</td>\n",
       "      <td>Positive</td>\n",
       "      <td>No</td>\n",
       "      <td>male</td>\n",
       "      <td>Contact with confirmed</td>\n",
       "    </tr>\n",
       "    <tr>\n",
       "      <th>3780517</th>\n",
       "      <td>2020-11-05</td>\n",
       "      <td>0</td>\n",
       "      <td>0</td>\n",
       "      <td>0</td>\n",
       "      <td>0</td>\n",
       "      <td>0</td>\n",
       "      <td>Negative</td>\n",
       "      <td>No</td>\n",
       "      <td>female</td>\n",
       "      <td>Other</td>\n",
       "    </tr>\n",
       "    <tr>\n",
       "      <th>1066028</th>\n",
       "      <td>2021-07-26</td>\n",
       "      <td>0</td>\n",
       "      <td>0</td>\n",
       "      <td>0</td>\n",
       "      <td>0</td>\n",
       "      <td>0</td>\n",
       "      <td>Negative</td>\n",
       "      <td>No</td>\n",
       "      <td>female</td>\n",
       "      <td>Other</td>\n",
       "    </tr>\n",
       "  </tbody>\n",
       "</table>\n",
       "</div>"
      ]
     },
     "execution_count": 3,
     "metadata": {},
     "output_type": "execute_result"
    }
   ],
   "execution_count": 3
  },
  {
   "cell_type": "markdown",
   "id": "bd357ff6316442b7",
   "metadata": {},
   "source": [
    "### Exploratory Data Analysis (EDA)"
   ]
  },
  {
   "cell_type": "code",
   "id": "5f168b28a0b78b89",
   "metadata": {
    "ExecuteTime": {
     "end_time": "2024-10-20T07:23:27.971630Z",
     "start_time": "2024-10-20T07:23:27.948520Z"
    }
   },
   "source": [
    "### show dataframe head \n",
    "df.head()"
   ],
   "outputs": [
    {
     "data": {
      "text/plain": [
       "    test_date  cough  fever  sore_throat  shortness_of_breath  head_ache  \\\n",
       "0  2021-10-11      0      0            0                    0          0   \n",
       "1  2021-10-11      0      0            0                    0          0   \n",
       "2  2021-10-11      0      0            0                    0          0   \n",
       "3  2021-10-11      0      0            0                    0          0   \n",
       "4  2021-10-11      0      0            0                    0          0   \n",
       "\n",
       "  corona_result age_60_and_above  gender test_indication  \n",
       "0      Negative              Yes  female           Other  \n",
       "1      Negative              Yes    male           Other  \n",
       "2      Negative               No  female           Other  \n",
       "3      Negative              Yes  female           Other  \n",
       "4      Negative              Yes  female           Other  "
      ],
      "text/html": [
       "<div>\n",
       "<style scoped>\n",
       "    .dataframe tbody tr th:only-of-type {\n",
       "        vertical-align: middle;\n",
       "    }\n",
       "\n",
       "    .dataframe tbody tr th {\n",
       "        vertical-align: top;\n",
       "    }\n",
       "\n",
       "    .dataframe thead th {\n",
       "        text-align: right;\n",
       "    }\n",
       "</style>\n",
       "<table border=\"1\" class=\"dataframe\">\n",
       "  <thead>\n",
       "    <tr style=\"text-align: right;\">\n",
       "      <th></th>\n",
       "      <th>test_date</th>\n",
       "      <th>cough</th>\n",
       "      <th>fever</th>\n",
       "      <th>sore_throat</th>\n",
       "      <th>shortness_of_breath</th>\n",
       "      <th>head_ache</th>\n",
       "      <th>corona_result</th>\n",
       "      <th>age_60_and_above</th>\n",
       "      <th>gender</th>\n",
       "      <th>test_indication</th>\n",
       "    </tr>\n",
       "  </thead>\n",
       "  <tbody>\n",
       "    <tr>\n",
       "      <th>0</th>\n",
       "      <td>2021-10-11</td>\n",
       "      <td>0</td>\n",
       "      <td>0</td>\n",
       "      <td>0</td>\n",
       "      <td>0</td>\n",
       "      <td>0</td>\n",
       "      <td>Negative</td>\n",
       "      <td>Yes</td>\n",
       "      <td>female</td>\n",
       "      <td>Other</td>\n",
       "    </tr>\n",
       "    <tr>\n",
       "      <th>1</th>\n",
       "      <td>2021-10-11</td>\n",
       "      <td>0</td>\n",
       "      <td>0</td>\n",
       "      <td>0</td>\n",
       "      <td>0</td>\n",
       "      <td>0</td>\n",
       "      <td>Negative</td>\n",
       "      <td>Yes</td>\n",
       "      <td>male</td>\n",
       "      <td>Other</td>\n",
       "    </tr>\n",
       "    <tr>\n",
       "      <th>2</th>\n",
       "      <td>2021-10-11</td>\n",
       "      <td>0</td>\n",
       "      <td>0</td>\n",
       "      <td>0</td>\n",
       "      <td>0</td>\n",
       "      <td>0</td>\n",
       "      <td>Negative</td>\n",
       "      <td>No</td>\n",
       "      <td>female</td>\n",
       "      <td>Other</td>\n",
       "    </tr>\n",
       "    <tr>\n",
       "      <th>3</th>\n",
       "      <td>2021-10-11</td>\n",
       "      <td>0</td>\n",
       "      <td>0</td>\n",
       "      <td>0</td>\n",
       "      <td>0</td>\n",
       "      <td>0</td>\n",
       "      <td>Negative</td>\n",
       "      <td>Yes</td>\n",
       "      <td>female</td>\n",
       "      <td>Other</td>\n",
       "    </tr>\n",
       "    <tr>\n",
       "      <th>4</th>\n",
       "      <td>2021-10-11</td>\n",
       "      <td>0</td>\n",
       "      <td>0</td>\n",
       "      <td>0</td>\n",
       "      <td>0</td>\n",
       "      <td>0</td>\n",
       "      <td>Negative</td>\n",
       "      <td>Yes</td>\n",
       "      <td>female</td>\n",
       "      <td>Other</td>\n",
       "    </tr>\n",
       "  </tbody>\n",
       "</table>\n",
       "</div>"
      ]
     },
     "execution_count": 4,
     "metadata": {},
     "output_type": "execute_result"
    }
   ],
   "execution_count": 4
  },
  {
   "cell_type": "code",
   "id": "8ac67386471d2ae6",
   "metadata": {
    "ExecuteTime": {
     "end_time": "2024-10-20T07:23:29.164872Z",
     "start_time": "2024-10-20T07:23:28.302377Z"
    }
   },
   "source": [
    "### Reassign integers(0 & 1) in place of Negative and Positive strings in the corona_result column \n",
    "df['corona_result'] = df['corona_result'].map({'Negative': 0, 'Positive': 1})\n",
    "\n",
    "### check that the changes have been implemented \n",
    "df"
   ],
   "outputs": [
    {
     "data": {
      "text/plain": [
       "          test_date  cough  fever  sore_throat  shortness_of_breath  \\\n",
       "0        2021-10-11      0      0            0                    0   \n",
       "1        2021-10-11      0      0            0                    0   \n",
       "2        2021-10-11      0      0            0                    0   \n",
       "3        2021-10-11      0      0            0                    0   \n",
       "4        2021-10-11      0      0            0                    0   \n",
       "...             ...    ...    ...          ...                  ...   \n",
       "5861475  2020-03-20      1      1            0                    0   \n",
       "5861476  2020-03-20      0      0            0                    0   \n",
       "5861477  2020-03-20      0      0            0                    0   \n",
       "5861478  2020-03-20      0      0            0                    0   \n",
       "5861479  2020-03-20      0      0            0                    0   \n",
       "\n",
       "         head_ache  corona_result age_60_and_above  gender test_indication  \n",
       "0                0              0              Yes  female           Other  \n",
       "1                0              0              Yes    male           Other  \n",
       "2                0              0               No  female           Other  \n",
       "3                0              0              Yes  female           Other  \n",
       "4                0              0              Yes  female           Other  \n",
       "...            ...            ...              ...     ...             ...  \n",
       "5861475          0              0               No  female           Other  \n",
       "5861476          0              0               No    male           Other  \n",
       "5861477          0              0               No  female           Other  \n",
       "5861478          0              0               No    male           Other  \n",
       "5861479          0              0               No    male           Other  \n",
       "\n",
       "[5861480 rows x 10 columns]"
      ],
      "text/html": [
       "<div>\n",
       "<style scoped>\n",
       "    .dataframe tbody tr th:only-of-type {\n",
       "        vertical-align: middle;\n",
       "    }\n",
       "\n",
       "    .dataframe tbody tr th {\n",
       "        vertical-align: top;\n",
       "    }\n",
       "\n",
       "    .dataframe thead th {\n",
       "        text-align: right;\n",
       "    }\n",
       "</style>\n",
       "<table border=\"1\" class=\"dataframe\">\n",
       "  <thead>\n",
       "    <tr style=\"text-align: right;\">\n",
       "      <th></th>\n",
       "      <th>test_date</th>\n",
       "      <th>cough</th>\n",
       "      <th>fever</th>\n",
       "      <th>sore_throat</th>\n",
       "      <th>shortness_of_breath</th>\n",
       "      <th>head_ache</th>\n",
       "      <th>corona_result</th>\n",
       "      <th>age_60_and_above</th>\n",
       "      <th>gender</th>\n",
       "      <th>test_indication</th>\n",
       "    </tr>\n",
       "  </thead>\n",
       "  <tbody>\n",
       "    <tr>\n",
       "      <th>0</th>\n",
       "      <td>2021-10-11</td>\n",
       "      <td>0</td>\n",
       "      <td>0</td>\n",
       "      <td>0</td>\n",
       "      <td>0</td>\n",
       "      <td>0</td>\n",
       "      <td>0</td>\n",
       "      <td>Yes</td>\n",
       "      <td>female</td>\n",
       "      <td>Other</td>\n",
       "    </tr>\n",
       "    <tr>\n",
       "      <th>1</th>\n",
       "      <td>2021-10-11</td>\n",
       "      <td>0</td>\n",
       "      <td>0</td>\n",
       "      <td>0</td>\n",
       "      <td>0</td>\n",
       "      <td>0</td>\n",
       "      <td>0</td>\n",
       "      <td>Yes</td>\n",
       "      <td>male</td>\n",
       "      <td>Other</td>\n",
       "    </tr>\n",
       "    <tr>\n",
       "      <th>2</th>\n",
       "      <td>2021-10-11</td>\n",
       "      <td>0</td>\n",
       "      <td>0</td>\n",
       "      <td>0</td>\n",
       "      <td>0</td>\n",
       "      <td>0</td>\n",
       "      <td>0</td>\n",
       "      <td>No</td>\n",
       "      <td>female</td>\n",
       "      <td>Other</td>\n",
       "    </tr>\n",
       "    <tr>\n",
       "      <th>3</th>\n",
       "      <td>2021-10-11</td>\n",
       "      <td>0</td>\n",
       "      <td>0</td>\n",
       "      <td>0</td>\n",
       "      <td>0</td>\n",
       "      <td>0</td>\n",
       "      <td>0</td>\n",
       "      <td>Yes</td>\n",
       "      <td>female</td>\n",
       "      <td>Other</td>\n",
       "    </tr>\n",
       "    <tr>\n",
       "      <th>4</th>\n",
       "      <td>2021-10-11</td>\n",
       "      <td>0</td>\n",
       "      <td>0</td>\n",
       "      <td>0</td>\n",
       "      <td>0</td>\n",
       "      <td>0</td>\n",
       "      <td>0</td>\n",
       "      <td>Yes</td>\n",
       "      <td>female</td>\n",
       "      <td>Other</td>\n",
       "    </tr>\n",
       "    <tr>\n",
       "      <th>...</th>\n",
       "      <td>...</td>\n",
       "      <td>...</td>\n",
       "      <td>...</td>\n",
       "      <td>...</td>\n",
       "      <td>...</td>\n",
       "      <td>...</td>\n",
       "      <td>...</td>\n",
       "      <td>...</td>\n",
       "      <td>...</td>\n",
       "      <td>...</td>\n",
       "    </tr>\n",
       "    <tr>\n",
       "      <th>5861475</th>\n",
       "      <td>2020-03-20</td>\n",
       "      <td>1</td>\n",
       "      <td>1</td>\n",
       "      <td>0</td>\n",
       "      <td>0</td>\n",
       "      <td>0</td>\n",
       "      <td>0</td>\n",
       "      <td>No</td>\n",
       "      <td>female</td>\n",
       "      <td>Other</td>\n",
       "    </tr>\n",
       "    <tr>\n",
       "      <th>5861476</th>\n",
       "      <td>2020-03-20</td>\n",
       "      <td>0</td>\n",
       "      <td>0</td>\n",
       "      <td>0</td>\n",
       "      <td>0</td>\n",
       "      <td>0</td>\n",
       "      <td>0</td>\n",
       "      <td>No</td>\n",
       "      <td>male</td>\n",
       "      <td>Other</td>\n",
       "    </tr>\n",
       "    <tr>\n",
       "      <th>5861477</th>\n",
       "      <td>2020-03-20</td>\n",
       "      <td>0</td>\n",
       "      <td>0</td>\n",
       "      <td>0</td>\n",
       "      <td>0</td>\n",
       "      <td>0</td>\n",
       "      <td>0</td>\n",
       "      <td>No</td>\n",
       "      <td>female</td>\n",
       "      <td>Other</td>\n",
       "    </tr>\n",
       "    <tr>\n",
       "      <th>5861478</th>\n",
       "      <td>2020-03-20</td>\n",
       "      <td>0</td>\n",
       "      <td>0</td>\n",
       "      <td>0</td>\n",
       "      <td>0</td>\n",
       "      <td>0</td>\n",
       "      <td>0</td>\n",
       "      <td>No</td>\n",
       "      <td>male</td>\n",
       "      <td>Other</td>\n",
       "    </tr>\n",
       "    <tr>\n",
       "      <th>5861479</th>\n",
       "      <td>2020-03-20</td>\n",
       "      <td>0</td>\n",
       "      <td>0</td>\n",
       "      <td>0</td>\n",
       "      <td>0</td>\n",
       "      <td>0</td>\n",
       "      <td>0</td>\n",
       "      <td>No</td>\n",
       "      <td>male</td>\n",
       "      <td>Other</td>\n",
       "    </tr>\n",
       "  </tbody>\n",
       "</table>\n",
       "<p>5861480 rows × 10 columns</p>\n",
       "</div>"
      ]
     },
     "execution_count": 5,
     "metadata": {},
     "output_type": "execute_result"
    }
   ],
   "execution_count": 5
  },
  {
   "cell_type": "code",
   "id": "cf14b0c28bea95cc",
   "metadata": {
    "ExecuteTime": {
     "end_time": "2024-10-20T07:23:29.336877Z",
     "start_time": "2024-10-20T07:23:29.304614Z"
    }
   },
   "source": [
    "### check dataset properties \n",
    "df.info()"
   ],
   "outputs": [
    {
     "name": "stdout",
     "output_type": "stream",
     "text": [
      "<class 'pandas.core.frame.DataFrame'>\n",
      "RangeIndex: 5861480 entries, 0 to 5861479\n",
      "Data columns (total 10 columns):\n",
      " #   Column               Dtype \n",
      "---  ------               ----- \n",
      " 0   test_date            object\n",
      " 1   cough                int64 \n",
      " 2   fever                int64 \n",
      " 3   sore_throat          int64 \n",
      " 4   shortness_of_breath  int64 \n",
      " 5   head_ache            int64 \n",
      " 6   corona_result        int64 \n",
      " 7   age_60_and_above     object\n",
      " 8   gender               object\n",
      " 9   test_indication      object\n",
      "dtypes: int64(6), object(4)\n",
      "memory usage: 447.2+ MB\n"
     ]
    }
   ],
   "execution_count": 6
  },
  {
   "cell_type": "code",
   "id": "f417fb79063eb1e5",
   "metadata": {
    "ExecuteTime": {
     "end_time": "2024-10-20T07:23:30.648754Z",
     "start_time": "2024-10-20T07:23:29.862068Z"
    }
   },
   "source": [
    "df['test_indication'].unique()"
   ],
   "outputs": [
    {
     "data": {
      "text/plain": [
       "array(['Other', 'Contact with confirmed', 'Abroad'], dtype=object)"
      ]
     },
     "execution_count": 7,
     "metadata": {},
     "output_type": "execute_result"
    }
   ],
   "execution_count": 7
  },
  {
   "cell_type": "code",
   "id": "77949e19e7a10a60",
   "metadata": {
    "ExecuteTime": {
     "end_time": "2024-10-20T07:23:32.772825Z",
     "start_time": "2024-10-20T07:23:30.882112Z"
    }
   },
   "source": [
    "### check the number of null values  \n",
    "df.isna().sum()"
   ],
   "outputs": [
    {
     "data": {
      "text/plain": [
       "test_date              0\n",
       "cough                  0\n",
       "fever                  0\n",
       "sore_throat            0\n",
       "shortness_of_breath    0\n",
       "head_ache              0\n",
       "corona_result          0\n",
       "age_60_and_above       0\n",
       "gender                 0\n",
       "test_indication        0\n",
       "dtype: int64"
      ]
     },
     "execution_count": 8,
     "metadata": {},
     "output_type": "execute_result"
    }
   ],
   "execution_count": 8
  },
  {
   "metadata": {
    "ExecuteTime": {
     "end_time": "2024-10-20T07:40:37.884098Z",
     "start_time": "2024-10-20T07:23:32.874155Z"
    }
   },
   "cell_type": "code",
   "source": "sns.pairplot(df)",
   "id": "f40a1f8d263f462f",
   "outputs": [
    {
     "data": {
      "text/plain": [
       "<seaborn.axisgrid.PairGrid at 0x132f6f96900>"
      ]
     },
     "execution_count": 9,
     "metadata": {},
     "output_type": "execute_result"
    },
    {
     "data": {
      "text/plain": [
       "<Figure size 1500x1500 with 42 Axes>"
      ],
      "image/png": "[encoded data removed]"
     },
     "metadata": {},
     "output_type": "display_data"
    }
   ],
   "execution_count": 9
  },
  {
   "cell_type": "code",
   "id": "e304a0b45e8828e5",
   "metadata": {
    "ExecuteTime": {
     "end_time": "2024-10-20T07:40:41.098956Z",
     "start_time": "2024-10-20T07:40:38.569612Z"
    }
   },
   "source": [
    "### Observation: Dataset is void of missing values  \n",
    "\n",
    "### Plot correlation matrix (excluding specified columns)\n",
    "columns_to_keep = ['cough', 'fever', 'sore_throat', 'shortness_of_breath', 'head_ache', 'corona_result']\n",
    "\n",
    "# Modify the original dataframe to keep only the selected columns\n",
    "df = df[columns_to_keep]\n",
    "\n",
    "# Calculate correlation matrix\n",
    "cor = df.corr()\n",
    "\n",
    "# Plot heatmap\n",
    "plt.figure(figsize=(10, 8))\n",
    "sns.heatmap(cor, annot=True , fmt='.2f', cmap='Blues')\n",
    "plt.title('Correlation Matrix (selected features)')\n",
    "plt.show()"
   ],
   "outputs": [
    {
     "data": {
      "text/plain": [
       "<Figure size 1000x800 with 2 Axes>"
      ],
      "image/png": "[encoded data removed]"
     },
     "metadata": {},
     "output_type": "display_data"
    }
   ],
   "execution_count": 10
  },
  {
   "cell_type": "code",
   "id": "b50ae9944697d969",
   "metadata": {
    "ExecuteTime": {
     "end_time": "2024-10-20T07:40:51.855193Z",
     "start_time": "2024-10-20T07:40:41.166160Z"
    }
   },
   "source": [
    "sns.countplot(data=df, x='corona_result',)\n",
    "plt.ylabel('Count')\n",
    "plt.title('Count of corona result in dataset')"
   ],
   "outputs": [
    {
     "data": {
      "text/plain": [
       "Text(0.5, 1.0, 'Count of corona result in dataset')"
      ]
     },
     "execution_count": 11,
     "metadata": {},
     "output_type": "execute_result"
    },
    {
     "data": {
      "text/plain": [
       "<Figure size 640x480 with 1 Axes>"
      ],
      "image/png": "[encoded data removed]"
     },
     "metadata": {},
     "output_type": "display_data"
    }
   ],
   "execution_count": 11
  },
  {
   "cell_type": "code",
   "id": "6f8c5a839886f68e",
   "metadata": {
    "ExecuteTime": {
     "end_time": "2024-10-20T07:41:38.668561Z",
     "start_time": "2024-10-20T07:40:51.877881Z"
    }
   },
   "source": [
    "### create subplots to visualise the effect of direct symptoms to test result  \n",
    "fig, ax = plt.subplots(2, 2, figsize=(10, 8))\n",
    "\n",
    "### set plots for all axes \n",
    "ax[0, 0].set_title('Cough count plot')\n",
    "sns.countplot(data=df, x='cough', hue='corona_result', ax=ax[0, 0])\n",
    "\n",
    "\n",
    "ax[0, 1].set_title('Fever count plot')\n",
    "sns.countplot(data=df, x='fever', hue='corona_result', ax=ax[0, 1])\n",
    "\n",
    "\n",
    "ax[1, 0].set_title('Sore throat count plot')\n",
    "sns.countplot(data=df, x='sore_throat', hue='corona_result', ax=ax[1, 0])\n",
    "\n",
    "\n",
    "ax[1, 1].set_title('Headache count plot')\n",
    "sns.countplot(data=df, x='head_ache', hue='corona_result', ax=ax[1, 1])\n",
    "\n",
    "### adjust vertical spacing for subplots\n",
    "fig.subplots_adjust(top=0.85, wspace=0.3, hspace=0.4)\n",
    "\n",
    "### show plot  \n",
    "plt.show()"
   ],
   "outputs": [
    {
     "data": {
      "text/plain": [
       "<Figure size 1000x800 with 4 Axes>"
      ],
      "image/png": "[encoded data removed]"
     },
     "metadata": {},
     "output_type": "display_data"
    }
   ],
   "execution_count": 12
  },
  {
   "cell_type": "markdown",
   "id": "d99fdb5ee19e4db6",
   "metadata": {},
   "source": [
    "#### Observation: **General observation**\n",
    "- Majority of cases are negative\n",
    "- From sore throat case, the positive to negative ratio was higher than other symptoms, showing that soar throat was and important indicator of the infection"
   ]
  },
  {
   "cell_type": "markdown",
   "id": "ed93d40dc5e24eed",
   "metadata": {},
   "source": [
    "#### Data preparation\n",
    "rest of comments here..."
   ]
  },
  {
   "cell_type": "code",
   "id": "366778509ee0880b",
   "metadata": {
    "ExecuteTime": {
     "end_time": "2024-10-20T07:41:39.267049Z",
     "start_time": "2024-10-20T07:41:38.807782Z"
    }
   },
   "source": [
    "### Get target variable and independent variables \n",
    "### target \n",
    "y=df['corona_result']\n",
    "### independent \n",
    "x=df.drop(['corona_result'], axis=1)\n",
    "\n",
    "### check independent variables  \n",
    "x.sample(8)\n"
   ],
   "outputs": [
    {
     "data": {
      "text/plain": [
       "         cough  fever  sore_throat  shortness_of_breath  head_ache\n",
       "3318556      0      0            0                    0          0\n",
       "3285588      0      0            0                    0          0\n",
       "121022       0      0            0                    0          0\n",
       "1562207      0      0            0                    0          0\n",
       "2459083      0      0            0                    0          0\n",
       "1696860      0      0            0                    0          0\n",
       "90110        1      1            0                    0          0\n",
       "3133568      0      0            0                    0          0"
      ],
      "text/html": [
       "<div>\n",
       "<style scoped>\n",
       "    .dataframe tbody tr th:only-of-type {\n",
       "        vertical-align: middle;\n",
       "    }\n",
       "\n",
       "    .dataframe tbody tr th {\n",
       "        vertical-align: top;\n",
       "    }\n",
       "\n",
       "    .dataframe thead th {\n",
       "        text-align: right;\n",
       "    }\n",
       "</style>\n",
       "<table border=\"1\" class=\"dataframe\">\n",
       "  <thead>\n",
       "    <tr style=\"text-align: right;\">\n",
       "      <th></th>\n",
       "      <th>cough</th>\n",
       "      <th>fever</th>\n",
       "      <th>sore_throat</th>\n",
       "      <th>shortness_of_breath</th>\n",
       "      <th>head_ache</th>\n",
       "    </tr>\n",
       "  </thead>\n",
       "  <tbody>\n",
       "    <tr>\n",
       "      <th>3318556</th>\n",
       "      <td>0</td>\n",
       "      <td>0</td>\n",
       "      <td>0</td>\n",
       "      <td>0</td>\n",
       "      <td>0</td>\n",
       "    </tr>\n",
       "    <tr>\n",
       "      <th>3285588</th>\n",
       "      <td>0</td>\n",
       "      <td>0</td>\n",
       "      <td>0</td>\n",
       "      <td>0</td>\n",
       "      <td>0</td>\n",
       "    </tr>\n",
       "    <tr>\n",
       "      <th>121022</th>\n",
       "      <td>0</td>\n",
       "      <td>0</td>\n",
       "      <td>0</td>\n",
       "      <td>0</td>\n",
       "      <td>0</td>\n",
       "    </tr>\n",
       "    <tr>\n",
       "      <th>1562207</th>\n",
       "      <td>0</td>\n",
       "      <td>0</td>\n",
       "      <td>0</td>\n",
       "      <td>0</td>\n",
       "      <td>0</td>\n",
       "    </tr>\n",
       "    <tr>\n",
       "      <th>2459083</th>\n",
       "      <td>0</td>\n",
       "      <td>0</td>\n",
       "      <td>0</td>\n",
       "      <td>0</td>\n",
       "      <td>0</td>\n",
       "    </tr>\n",
       "    <tr>\n",
       "      <th>1696860</th>\n",
       "      <td>0</td>\n",
       "      <td>0</td>\n",
       "      <td>0</td>\n",
       "      <td>0</td>\n",
       "      <td>0</td>\n",
       "    </tr>\n",
       "    <tr>\n",
       "      <th>90110</th>\n",
       "      <td>1</td>\n",
       "      <td>1</td>\n",
       "      <td>0</td>\n",
       "      <td>0</td>\n",
       "      <td>0</td>\n",
       "    </tr>\n",
       "    <tr>\n",
       "      <th>3133568</th>\n",
       "      <td>0</td>\n",
       "      <td>0</td>\n",
       "      <td>0</td>\n",
       "      <td>0</td>\n",
       "      <td>0</td>\n",
       "    </tr>\n",
       "  </tbody>\n",
       "</table>\n",
       "</div>"
      ]
     },
     "execution_count": 13,
     "metadata": {},
     "output_type": "execute_result"
    }
   ],
   "execution_count": 13
  },
  {
   "cell_type": "code",
   "id": "6e1e7ed104785624",
   "metadata": {
    "ExecuteTime": {
     "end_time": "2024-10-20T07:41:40.808161Z",
     "start_time": "2024-10-20T07:41:40.388577Z"
    }
   },
   "source": [
    " ### check target variable  \n",
    "y.sample(8)"
   ],
   "outputs": [
    {
     "data": {
      "text/plain": [
       "3846234    0\n",
       "1144195    0\n",
       "4623288    0\n",
       "1462137    0\n",
       "2642086    0\n",
       "3172762    0\n",
       "1768210    0\n",
       "4157139    0\n",
       "Name: corona_result, dtype: int64"
      ]
     },
     "execution_count": 14,
     "metadata": {},
     "output_type": "execute_result"
    }
   ],
   "execution_count": 14
  },
  {
   "cell_type": "code",
   "id": "67a1d44ca0af5e30",
   "metadata": {
    "ExecuteTime": {
     "end_time": "2024-10-20T07:41:40.978402Z",
     "start_time": "2024-10-20T07:41:40.886059Z"
    }
   },
   "source": [
    "### check disparity of negative and positive values in our target variable  \n",
    "df['corona_result'].value_counts()"
   ],
   "outputs": [
    {
     "data": {
      "text/plain": [
       "corona_result\n",
       "0    5355807\n",
       "1     505673\n",
       "Name: count, dtype: int64"
      ]
     },
     "execution_count": 15,
     "metadata": {},
     "output_type": "execute_result"
    }
   ],
   "execution_count": 15
  },
  {
   "cell_type": "code",
   "id": "ba2420a3b3c0d96a",
   "metadata": {
    "ExecuteTime": {
     "end_time": "2024-10-20T07:41:41.988930Z",
     "start_time": "2024-10-20T07:41:41.264460Z"
    }
   },
   "source": [
    "from imblearn.under_sampling import RandomUnderSampler\n",
    "#from imblearn.over_sampling import RandomOverSampler"
   ],
   "outputs": [],
   "execution_count": 16
  },
  {
   "cell_type": "code",
   "id": "58c9ddcf517d0701",
   "metadata": {
    "ExecuteTime": {
     "end_time": "2024-10-20T07:41:43.815606Z",
     "start_time": "2024-10-20T07:41:42.242137Z"
    }
   },
   "source": [
    "# under-sampling of the class with the majority count\n",
    "undersample = RandomUnderSampler(sampling_strategy = {0: 500000, 1: 500000}, random_state = 33)\n",
    "x_under, y_under = undersample.fit_resample(x, y)\n"
   ],
   "outputs": [],
   "execution_count": 17
  },
  {
   "cell_type": "code",
   "id": "4115ac435d576f74",
   "metadata": {
    "ExecuteTime": {
     "end_time": "2024-10-20T07:41:43.847341Z",
     "start_time": "2024-10-20T07:41:43.823696Z"
    }
   },
   "source": [
    "y_under.value_counts()"
   ],
   "outputs": [
    {
     "data": {
      "text/plain": [
       "corona_result\n",
       "0    500000\n",
       "1    500000\n",
       "Name: count, dtype: int64"
      ]
     },
     "execution_count": 18,
     "metadata": {},
     "output_type": "execute_result"
    }
   ],
   "execution_count": 18
  },
  {
   "cell_type": "code",
   "id": "a044c181620c5e1d",
   "metadata": {
    "ExecuteTime": {
     "end_time": "2024-10-20T07:41:44.223Z",
     "start_time": "2024-10-20T07:41:43.954066Z"
    }
   },
   "source": [
    "### Setting  Train:Test Ratio as 80:20\n",
    "\n",
    "x_train, x_test, y_train, y_test = train_test_split(x_under, y_under, test_size=0.2, random_state=42)\n",
    "\n",
    "print (x_train.shape, x_test.shape, y_train.shape, y_test.shape)\n",
    "print('\\n')\n",
    "print (y_train.value_counts())\n",
    "print('\\n')\n",
    "print (y_test.value_counts())"
   ],
   "outputs": [
    {
     "name": "stdout",
     "output_type": "stream",
     "text": [
      "(800000, 5) (200000, 5) (800000,) (200000,)\n",
      "\n",
      "\n",
      "corona_result\n",
      "0    400013\n",
      "1    399987\n",
      "Name: count, dtype: int64\n",
      "\n",
      "\n",
      "corona_result\n",
      "1    100013\n",
      "0     99987\n",
      "Name: count, dtype: int64\n"
     ]
    }
   ],
   "execution_count": 19
  },
  {
   "cell_type": "code",
   "id": "ff207e8a50c16249",
   "metadata": {
    "ExecuteTime": {
     "end_time": "2024-10-20T07:41:44.367283Z",
     "start_time": "2024-10-20T07:41:44.353193Z"
    }
   },
   "source": [
    "x_train"
   ],
   "outputs": [
    {
     "data": {
      "text/plain": [
       "         cough  fever  sore_throat  shortness_of_breath  head_ache\n",
       "4217341      0      0            0                    0          0\n",
       "2063151      0      0            0                    0          0\n",
       "4588643      0      0            0                    0          1\n",
       "5323051      0      0            0                    0          0\n",
       "4217575      0      0            1                    0          0\n",
       "...        ...    ...          ...                  ...        ...\n",
       "4311647      0      0            0                    0          0\n",
       "2860181      0      0            0                    0          0\n",
       "455462       0      0            0                    0          0\n",
       "3966355      0      0            0                    0          0\n",
       "227269       0      0            0                    0          0\n",
       "\n",
       "[800000 rows x 5 columns]"
      ],
      "text/html": [
       "<div>\n",
       "<style scoped>\n",
       "    .dataframe tbody tr th:only-of-type {\n",
       "        vertical-align: middle;\n",
       "    }\n",
       "\n",
       "    .dataframe tbody tr th {\n",
       "        vertical-align: top;\n",
       "    }\n",
       "\n",
       "    .dataframe thead th {\n",
       "        text-align: right;\n",
       "    }\n",
       "</style>\n",
       "<table border=\"1\" class=\"dataframe\">\n",
       "  <thead>\n",
       "    <tr style=\"text-align: right;\">\n",
       "      <th></th>\n",
       "      <th>cough</th>\n",
       "      <th>fever</th>\n",
       "      <th>sore_throat</th>\n",
       "      <th>shortness_of_breath</th>\n",
       "      <th>head_ache</th>\n",
       "    </tr>\n",
       "  </thead>\n",
       "  <tbody>\n",
       "    <tr>\n",
       "      <th>4217341</th>\n",
       "      <td>0</td>\n",
       "      <td>0</td>\n",
       "      <td>0</td>\n",
       "      <td>0</td>\n",
       "      <td>0</td>\n",
       "    </tr>\n",
       "    <tr>\n",
       "      <th>2063151</th>\n",
       "      <td>0</td>\n",
       "      <td>0</td>\n",
       "      <td>0</td>\n",
       "      <td>0</td>\n",
       "      <td>0</td>\n",
       "    </tr>\n",
       "    <tr>\n",
       "      <th>4588643</th>\n",
       "      <td>0</td>\n",
       "      <td>0</td>\n",
       "      <td>0</td>\n",
       "      <td>0</td>\n",
       "      <td>1</td>\n",
       "    </tr>\n",
       "    <tr>\n",
       "      <th>5323051</th>\n",
       "      <td>0</td>\n",
       "      <td>0</td>\n",
       "      <td>0</td>\n",
       "      <td>0</td>\n",
       "      <td>0</td>\n",
       "    </tr>\n",
       "    <tr>\n",
       "      <th>4217575</th>\n",
       "      <td>0</td>\n",
       "      <td>0</td>\n",
       "      <td>1</td>\n",
       "      <td>0</td>\n",
       "      <td>0</td>\n",
       "    </tr>\n",
       "    <tr>\n",
       "      <th>...</th>\n",
       "      <td>...</td>\n",
       "      <td>...</td>\n",
       "      <td>...</td>\n",
       "      <td>...</td>\n",
       "      <td>...</td>\n",
       "    </tr>\n",
       "    <tr>\n",
       "      <th>4311647</th>\n",
       "      <td>0</td>\n",
       "      <td>0</td>\n",
       "      <td>0</td>\n",
       "      <td>0</td>\n",
       "      <td>0</td>\n",
       "    </tr>\n",
       "    <tr>\n",
       "      <th>2860181</th>\n",
       "      <td>0</td>\n",
       "      <td>0</td>\n",
       "      <td>0</td>\n",
       "      <td>0</td>\n",
       "      <td>0</td>\n",
       "    </tr>\n",
       "    <tr>\n",
       "      <th>455462</th>\n",
       "      <td>0</td>\n",
       "      <td>0</td>\n",
       "      <td>0</td>\n",
       "      <td>0</td>\n",
       "      <td>0</td>\n",
       "    </tr>\n",
       "    <tr>\n",
       "      <th>3966355</th>\n",
       "      <td>0</td>\n",
       "      <td>0</td>\n",
       "      <td>0</td>\n",
       "      <td>0</td>\n",
       "      <td>0</td>\n",
       "    </tr>\n",
       "    <tr>\n",
       "      <th>227269</th>\n",
       "      <td>0</td>\n",
       "      <td>0</td>\n",
       "      <td>0</td>\n",
       "      <td>0</td>\n",
       "      <td>0</td>\n",
       "    </tr>\n",
       "  </tbody>\n",
       "</table>\n",
       "<p>800000 rows × 5 columns</p>\n",
       "</div>"
      ]
     },
     "execution_count": 20,
     "metadata": {},
     "output_type": "execute_result"
    }
   ],
   "execution_count": 20
  },
  {
   "cell_type": "code",
   "id": "de5974f4716cde54",
   "metadata": {
    "ExecuteTime": {
     "end_time": "2024-10-20T07:41:44.596162Z",
     "start_time": "2024-10-20T07:41:44.568792Z"
    }
   },
   "source": [
    "x_test"
   ],
   "outputs": [
    {
     "data": {
      "text/plain": [
       "         cough  fever  sore_throat  shortness_of_breath  head_ache\n",
       "3568261      0      0            0                    0          0\n",
       "4464133      0      0            0                    0          0\n",
       "3097723      1      0            1                    0          1\n",
       "1520448      0      0            0                    0          0\n",
       "4405055      0      0            0                    0          0\n",
       "...        ...    ...          ...                  ...        ...\n",
       "1140758      0      0            0                    0          0\n",
       "4158708      0      1            0                    0          0\n",
       "5184453      0      0            0                    0          0\n",
       "1961647      1      0            0                    0          1\n",
       "3179863      1      0            1                    0          0\n",
       "\n",
       "[200000 rows x 5 columns]"
      ],
      "text/html": [
       "<div>\n",
       "<style scoped>\n",
       "    .dataframe tbody tr th:only-of-type {\n",
       "        vertical-align: middle;\n",
       "    }\n",
       "\n",
       "    .dataframe tbody tr th {\n",
       "        vertical-align: top;\n",
       "    }\n",
       "\n",
       "    .dataframe thead th {\n",
       "        text-align: right;\n",
       "    }\n",
       "</style>\n",
       "<table border=\"1\" class=\"dataframe\">\n",
       "  <thead>\n",
       "    <tr style=\"text-align: right;\">\n",
       "      <th></th>\n",
       "      <th>cough</th>\n",
       "      <th>fever</th>\n",
       "      <th>sore_throat</th>\n",
       "      <th>shortness_of_breath</th>\n",
       "      <th>head_ache</th>\n",
       "    </tr>\n",
       "  </thead>\n",
       "  <tbody>\n",
       "    <tr>\n",
       "      <th>3568261</th>\n",
       "      <td>0</td>\n",
       "      <td>0</td>\n",
       "      <td>0</td>\n",
       "      <td>0</td>\n",
       "      <td>0</td>\n",
       "    </tr>\n",
       "    <tr>\n",
       "      <th>4464133</th>\n",
       "      <td>0</td>\n",
       "      <td>0</td>\n",
       "      <td>0</td>\n",
       "      <td>0</td>\n",
       "      <td>0</td>\n",
       "    </tr>\n",
       "    <tr>\n",
       "      <th>3097723</th>\n",
       "      <td>1</td>\n",
       "      <td>0</td>\n",
       "      <td>1</td>\n",
       "      <td>0</td>\n",
       "      <td>1</td>\n",
       "    </tr>\n",
       "    <tr>\n",
       "      <th>1520448</th>\n",
       "      <td>0</td>\n",
       "      <td>0</td>\n",
       "      <td>0</td>\n",
       "      <td>0</td>\n",
       "      <td>0</td>\n",
       "    </tr>\n",
       "    <tr>\n",
       "      <th>4405055</th>\n",
       "      <td>0</td>\n",
       "      <td>0</td>\n",
       "      <td>0</td>\n",
       "      <td>0</td>\n",
       "      <td>0</td>\n",
       "    </tr>\n",
       "    <tr>\n",
       "      <th>...</th>\n",
       "      <td>...</td>\n",
       "      <td>...</td>\n",
       "      <td>...</td>\n",
       "      <td>...</td>\n",
       "      <td>...</td>\n",
       "    </tr>\n",
       "    <tr>\n",
       "      <th>1140758</th>\n",
       "      <td>0</td>\n",
       "      <td>0</td>\n",
       "      <td>0</td>\n",
       "      <td>0</td>\n",
       "      <td>0</td>\n",
       "    </tr>\n",
       "    <tr>\n",
       "      <th>4158708</th>\n",
       "      <td>0</td>\n",
       "      <td>1</td>\n",
       "      <td>0</td>\n",
       "      <td>0</td>\n",
       "      <td>0</td>\n",
       "    </tr>\n",
       "    <tr>\n",
       "      <th>5184453</th>\n",
       "      <td>0</td>\n",
       "      <td>0</td>\n",
       "      <td>0</td>\n",
       "      <td>0</td>\n",
       "      <td>0</td>\n",
       "    </tr>\n",
       "    <tr>\n",
       "      <th>1961647</th>\n",
       "      <td>1</td>\n",
       "      <td>0</td>\n",
       "      <td>0</td>\n",
       "      <td>0</td>\n",
       "      <td>1</td>\n",
       "    </tr>\n",
       "    <tr>\n",
       "      <th>3179863</th>\n",
       "      <td>1</td>\n",
       "      <td>0</td>\n",
       "      <td>1</td>\n",
       "      <td>0</td>\n",
       "      <td>0</td>\n",
       "    </tr>\n",
       "  </tbody>\n",
       "</table>\n",
       "<p>200000 rows × 5 columns</p>\n",
       "</div>"
      ]
     },
     "execution_count": 21,
     "metadata": {},
     "output_type": "execute_result"
    }
   ],
   "execution_count": 21
  },
  {
   "cell_type": "markdown",
   "id": "605c32ba5141b4a",
   "metadata": {},
   "source": [
    "#### Using Random forest "
   ]
  },
  {
   "cell_type": "code",
   "id": "415076e80aabf11d",
   "metadata": {
    "ExecuteTime": {
     "end_time": "2024-10-20T07:42:01.995017Z",
     "start_time": "2024-10-20T07:41:44.827463Z"
    }
   },
   "source": [
    "# Initializing the random forest classifier \n",
    "rfc = RandomForestClassifier(n_estimators=100, max_depth=10, random_state=42)\n",
    "# Fit the random forest classifier\n",
    "rfc.fit(x_train, y_train)"
   ],
   "outputs": [
    {
     "data": {
      "text/plain": [
       "RandomForestClassifier(max_depth=10, random_state=42)"
      ],
      "text/html": [
       "<style>#sk-container-id-1 {\n",
       "  /* Definition of color scheme common for light and dark mode */\n",
       "  --sklearn-color-text: black;\n",
       "  --sklearn-color-line: gray;\n",
       "  /* Definition of color scheme for unfitted estimators */\n",
       "  --sklearn-color-unfitted-level-0: #fff5e6;\n",
       "  --sklearn-color-unfitted-level-1: #f6e4d2;\n",
       "  --sklearn-color-unfitted-level-2: #ffe0b3;\n",
       "  --sklearn-color-unfitted-level-3: chocolate;\n",
       "  /* Definition of color scheme for fitted estimators */\n",
       "  --sklearn-color-fitted-level-0: #f0f8ff;\n",
       "  --sklearn-color-fitted-level-1: #d4ebff;\n",
       "  --sklearn-color-fitted-level-2: #b3dbfd;\n",
       "  --sklearn-color-fitted-level-3: cornflowerblue;\n",
       "\n",
       "  /* Specific color for light theme */\n",
       "  --sklearn-color-text-on-default-background: var(--sg-text-color, var(--theme-code-foreground, var(--jp-content-font-color1, black)));\n",
       "  --sklearn-color-background: var(--sg-background-color, var(--theme-background, var(--jp-layout-color0, white)));\n",
       "  --sklearn-color-border-box: var(--sg-text-color, var(--theme-code-foreground, var(--jp-content-font-color1, black)));\n",
       "  --sklearn-color-icon: #696969;\n",
       "\n",
       "  @media (prefers-color-scheme: dark) {\n",
       "    /* Redefinition of color scheme for dark theme */\n",
       "    --sklearn-color-text-on-default-background: var(--sg-text-color, var(--theme-code-foreground, var(--jp-content-font-color1, white)));\n",
       "    --sklearn-color-background: var(--sg-background-color, var(--theme-background, var(--jp-layout-color0, #111)));\n",
       "    --sklearn-color-border-box: var(--sg-text-color, var(--theme-code-foreground, var(--jp-content-font-color1, white)));\n",
       "    --sklearn-color-icon: #878787;\n",
       "  }\n",
       "}\n",
       "\n",
       "#sk-container-id-1 {\n",
       "  color: var(--sklearn-color-text);\n",
       "}\n",
       "\n",
       "#sk-container-id-1 pre {\n",
       "  padding: 0;\n",
       "}\n",
       "\n",
       "#sk-container-id-1 input.sk-hidden--visually {\n",
       "  border: 0;\n",
       "  clip: rect(1px 1px 1px 1px);\n",
       "  clip: rect(1px, 1px, 1px, 1px);\n",
       "  height: 1px;\n",
       "  margin: -1px;\n",
       "  overflow: hidden;\n",
       "  padding: 0;\n",
       "  position: absolute;\n",
       "  width: 1px;\n",
       "}\n",
       "\n",
       "#sk-container-id-1 div.sk-dashed-wrapped {\n",
       "  border: 1px dashed var(--sklearn-color-line);\n",
       "  margin: 0 0.4em 0.5em 0.4em;\n",
       "  box-sizing: border-box;\n",
       "  padding-bottom: 0.4em;\n",
       "  background-color: var(--sklearn-color-background);\n",
       "}\n",
       "\n",
       "#sk-container-id-1 div.sk-container {\n",
       "  /* jupyter's `normalize.less` sets `[hidden] { display: none; }`\n",
       "     but bootstrap.min.css set `[hidden] { display: none !important; }`\n",
       "     so we also need the `!important` here to be able to override the\n",
       "     default hidden behavior on the sphinx rendered scikit-learn.org.\n",
       "     See: https://github.com/scikit-learn/scikit-learn/issues/21755 */\n",
       "  display: inline-block !important;\n",
       "  position: relative;\n",
       "}\n",
       "\n",
       "#sk-container-id-1 div.sk-text-repr-fallback {\n",
       "  display: none;\n",
       "}\n",
       "\n",
       "div.sk-parallel-item,\n",
       "div.sk-serial,\n",
       "div.sk-item {\n",
       "  /* draw centered vertical line to link estimators */\n",
       "  background-image: linear-gradient(var(--sklearn-color-text-on-default-background), var(--sklearn-color-text-on-default-background));\n",
       "  background-size: 2px 100%;\n",
       "  background-repeat: no-repeat;\n",
       "  background-position: center center;\n",
       "}\n",
       "\n",
       "/* Parallel-specific style estimator block */\n",
       "\n",
       "#sk-container-id-1 div.sk-parallel-item::after {\n",
       "  content: \"\";\n",
       "  width: 100%;\n",
       "  border-bottom: 2px solid var(--sklearn-color-text-on-default-background);\n",
       "  flex-grow: 1;\n",
       "}\n",
       "\n",
       "#sk-container-id-1 div.sk-parallel {\n",
       "  display: flex;\n",
       "  align-items: stretch;\n",
       "  justify-content: center;\n",
       "  background-color: var(--sklearn-color-background);\n",
       "  position: relative;\n",
       "}\n",
       "\n",
       "#sk-container-id-1 div.sk-parallel-item {\n",
       "  display: flex;\n",
       "  flex-direction: column;\n",
       "}\n",
       "\n",
       "#sk-container-id-1 div.sk-parallel-item:first-child::after {\n",
       "  align-self: flex-end;\n",
       "  width: 50%;\n",
       "}\n",
       "\n",
       "#sk-container-id-1 div.sk-parallel-item:last-child::after {\n",
       "  align-self: flex-start;\n",
       "  width: 50%;\n",
       "}\n",
       "\n",
       "#sk-container-id-1 div.sk-parallel-item:only-child::after {\n",
       "  width: 0;\n",
       "}\n",
       "\n",
       "/* Serial-specific style estimator block */\n",
       "\n",
       "#sk-container-id-1 div.sk-serial {\n",
       "  display: flex;\n",
       "  flex-direction: column;\n",
       "  align-items: center;\n",
       "  background-color: var(--sklearn-color-background);\n",
       "  padding-right: 1em;\n",
       "  padding-left: 1em;\n",
       "}\n",
       "\n",
       "\n",
       "/* Toggleable style: style used for estimator/Pipeline/ColumnTransformer box that is\n",
       "clickable and can be expanded/collapsed.\n",
       "- Pipeline and ColumnTransformer use this feature and define the default style\n",
       "- Estimators will overwrite some part of the style using the `sk-estimator` class\n",
       "*/\n",
       "\n",
       "/* Pipeline and ColumnTransformer style (default) */\n",
       "\n",
       "#sk-container-id-1 div.sk-toggleable {\n",
       "  /* Default theme specific background. It is overwritten whether we have a\n",
       "  specific estimator or a Pipeline/ColumnTransformer */\n",
       "  background-color: var(--sklearn-color-background);\n",
       "}\n",
       "\n",
       "/* Toggleable label */\n",
       "#sk-container-id-1 label.sk-toggleable__label {\n",
       "  cursor: pointer;\n",
       "  display: block;\n",
       "  width: 100%;\n",
       "  margin-bottom: 0;\n",
       "  padding: 0.5em;\n",
       "  box-sizing: border-box;\n",
       "  text-align: center;\n",
       "}\n",
       "\n",
       "#sk-container-id-1 label.sk-toggleable__label-arrow:before {\n",
       "  /* Arrow on the left of the label */\n",
       "  content: \"▸\";\n",
       "  float: left;\n",
       "  margin-right: 0.25em;\n",
       "  color: var(--sklearn-color-icon);\n",
       "}\n",
       "\n",
       "#sk-container-id-1 label.sk-toggleable__label-arrow:hover:before {\n",
       "  color: var(--sklearn-color-text);\n",
       "}\n",
       "\n",
       "/* Toggleable content - dropdown */\n",
       "\n",
       "#sk-container-id-1 div.sk-toggleable__content {\n",
       "  max-height: 0;\n",
       "  max-width: 0;\n",
       "  overflow: hidden;\n",
       "  text-align: left;\n",
       "  /* unfitted */\n",
       "  background-color: var(--sklearn-color-unfitted-level-0);\n",
       "}\n",
       "\n",
       "#sk-container-id-1 div.sk-toggleable__content.fitted {\n",
       "  /* fitted */\n",
       "  background-color: var(--sklearn-color-fitted-level-0);\n",
       "}\n",
       "\n",
       "#sk-container-id-1 div.sk-toggleable__content pre {\n",
       "  margin: 0.2em;\n",
       "  border-radius: 0.25em;\n",
       "  color: var(--sklearn-color-text);\n",
       "  /* unfitted */\n",
       "  background-color: var(--sklearn-color-unfitted-level-0);\n",
       "}\n",
       "\n",
       "#sk-container-id-1 div.sk-toggleable__content.fitted pre {\n",
       "  /* unfitted */\n",
       "  background-color: var(--sklearn-color-fitted-level-0);\n",
       "}\n",
       "\n",
       "#sk-container-id-1 input.sk-toggleable__control:checked~div.sk-toggleable__content {\n",
       "  /* Expand drop-down */\n",
       "  max-height: 200px;\n",
       "  max-width: 100%;\n",
       "  overflow: auto;\n",
       "}\n",
       "\n",
       "#sk-container-id-1 input.sk-toggleable__control:checked~label.sk-toggleable__label-arrow:before {\n",
       "  content: \"▾\";\n",
       "}\n",
       "\n",
       "/* Pipeline/ColumnTransformer-specific style */\n",
       "\n",
       "#sk-container-id-1 div.sk-label input.sk-toggleable__control:checked~label.sk-toggleable__label {\n",
       "  color: var(--sklearn-color-text);\n",
       "  background-color: var(--sklearn-color-unfitted-level-2);\n",
       "}\n",
       "\n",
       "#sk-container-id-1 div.sk-label.fitted input.sk-toggleable__control:checked~label.sk-toggleable__label {\n",
       "  background-color: var(--sklearn-color-fitted-level-2);\n",
       "}\n",
       "\n",
       "/* Estimator-specific style */\n",
       "\n",
       "/* Colorize estimator box */\n",
       "#sk-container-id-1 div.sk-estimator input.sk-toggleable__control:checked~label.sk-toggleable__label {\n",
       "  /* unfitted */\n",
       "  background-color: var(--sklearn-color-unfitted-level-2);\n",
       "}\n",
       "\n",
       "#sk-container-id-1 div.sk-estimator.fitted input.sk-toggleable__control:checked~label.sk-toggleable__label {\n",
       "  /* fitted */\n",
       "  background-color: var(--sklearn-color-fitted-level-2);\n",
       "}\n",
       "\n",
       "#sk-container-id-1 div.sk-label label.sk-toggleable__label,\n",
       "#sk-container-id-1 div.sk-label label {\n",
       "  /* The background is the default theme color */\n",
       "  color: var(--sklearn-color-text-on-default-background);\n",
       "}\n",
       "\n",
       "/* On hover, darken the color of the background */\n",
       "#sk-container-id-1 div.sk-label:hover label.sk-toggleable__label {\n",
       "  color: var(--sklearn-color-text);\n",
       "  background-color: var(--sklearn-color-unfitted-level-2);\n",
       "}\n",
       "\n",
       "/* Label box, darken color on hover, fitted */\n",
       "#sk-container-id-1 div.sk-label.fitted:hover label.sk-toggleable__label.fitted {\n",
       "  color: var(--sklearn-color-text);\n",
       "  background-color: var(--sklearn-color-fitted-level-2);\n",
       "}\n",
       "\n",
       "/* Estimator label */\n",
       "\n",
       "#sk-container-id-1 div.sk-label label {\n",
       "  font-family: monospace;\n",
       "  font-weight: bold;\n",
       "  display: inline-block;\n",
       "  line-height: 1.2em;\n",
       "}\n",
       "\n",
       "#sk-container-id-1 div.sk-label-container {\n",
       "  text-align: center;\n",
       "}\n",
       "\n",
       "/* Estimator-specific */\n",
       "#sk-container-id-1 div.sk-estimator {\n",
       "  font-family: monospace;\n",
       "  border: 1px dotted var(--sklearn-color-border-box);\n",
       "  border-radius: 0.25em;\n",
       "  box-sizing: border-box;\n",
       "  margin-bottom: 0.5em;\n",
       "  /* unfitted */\n",
       "  background-color: var(--sklearn-color-unfitted-level-0);\n",
       "}\n",
       "\n",
       "#sk-container-id-1 div.sk-estimator.fitted {\n",
       "  /* fitted */\n",
       "  background-color: var(--sklearn-color-fitted-level-0);\n",
       "}\n",
       "\n",
       "/* on hover */\n",
       "#sk-container-id-1 div.sk-estimator:hover {\n",
       "  /* unfitted */\n",
       "  background-color: var(--sklearn-color-unfitted-level-2);\n",
       "}\n",
       "\n",
       "#sk-container-id-1 div.sk-estimator.fitted:hover {\n",
       "  /* fitted */\n",
       "  background-color: var(--sklearn-color-fitted-level-2);\n",
       "}\n",
       "\n",
       "/* Specification for estimator info (e.g. \"i\" and \"?\") */\n",
       "\n",
       "/* Common style for \"i\" and \"?\" */\n",
       "\n",
       ".sk-estimator-doc-link,\n",
       "a:link.sk-estimator-doc-link,\n",
       "a:visited.sk-estimator-doc-link {\n",
       "  float: right;\n",
       "  font-size: smaller;\n",
       "  line-height: 1em;\n",
       "  font-family: monospace;\n",
       "  background-color: var(--sklearn-color-background);\n",
       "  border-radius: 1em;\n",
       "  height: 1em;\n",
       "  width: 1em;\n",
       "  text-decoration: none !important;\n",
       "  margin-left: 1ex;\n",
       "  /* unfitted */\n",
       "  border: var(--sklearn-color-unfitted-level-1) 1pt solid;\n",
       "  color: var(--sklearn-color-unfitted-level-1);\n",
       "}\n",
       "\n",
       ".sk-estimator-doc-link.fitted,\n",
       "a:link.sk-estimator-doc-link.fitted,\n",
       "a:visited.sk-estimator-doc-link.fitted {\n",
       "  /* fitted */\n",
       "  border: var(--sklearn-color-fitted-level-1) 1pt solid;\n",
       "  color: var(--sklearn-color-fitted-level-1);\n",
       "}\n",
       "\n",
       "/* On hover */\n",
       "div.sk-estimator:hover .sk-estimator-doc-link:hover,\n",
       ".sk-estimator-doc-link:hover,\n",
       "div.sk-label-container:hover .sk-estimator-doc-link:hover,\n",
       ".sk-estimator-doc-link:hover {\n",
       "  /* unfitted */\n",
       "  background-color: var(--sklearn-color-unfitted-level-3);\n",
       "  color: var(--sklearn-color-background);\n",
       "  text-decoration: none;\n",
       "}\n",
       "\n",
       "div.sk-estimator.fitted:hover .sk-estimator-doc-link.fitted:hover,\n",
       ".sk-estimator-doc-link.fitted:hover,\n",
       "div.sk-label-container:hover .sk-estimator-doc-link.fitted:hover,\n",
       ".sk-estimator-doc-link.fitted:hover {\n",
       "  /* fitted */\n",
       "  background-color: var(--sklearn-color-fitted-level-3);\n",
       "  color: var(--sklearn-color-background);\n",
       "  text-decoration: none;\n",
       "}\n",
       "\n",
       "/* Span, style for the box shown on hovering the info icon */\n",
       ".sk-estimator-doc-link span {\n",
       "  display: none;\n",
       "  z-index: 9999;\n",
       "  position: relative;\n",
       "  font-weight: normal;\n",
       "  right: .2ex;\n",
       "  padding: .5ex;\n",
       "  margin: .5ex;\n",
       "  width: min-content;\n",
       "  min-width: 20ex;\n",
       "  max-width: 50ex;\n",
       "  color: var(--sklearn-color-text);\n",
       "  box-shadow: 2pt 2pt 4pt #999;\n",
       "  /* unfitted */\n",
       "  background: var(--sklearn-color-unfitted-level-0);\n",
       "  border: .5pt solid var(--sklearn-color-unfitted-level-3);\n",
       "}\n",
       "\n",
       ".sk-estimator-doc-link.fitted span {\n",
       "  /* fitted */\n",
       "  background: var(--sklearn-color-fitted-level-0);\n",
       "  border: var(--sklearn-color-fitted-level-3);\n",
       "}\n",
       "\n",
       ".sk-estimator-doc-link:hover span {\n",
       "  display: block;\n",
       "}\n",
       "\n",
       "/* \"?\"-specific style due to the `<a>` HTML tag */\n",
       "\n",
       "#sk-container-id-1 a.estimator_doc_link {\n",
       "  float: right;\n",
       "  font-size: 1rem;\n",
       "  line-height: 1em;\n",
       "  font-family: monospace;\n",
       "  background-color: var(--sklearn-color-background);\n",
       "  border-radius: 1rem;\n",
       "  height: 1rem;\n",
       "  width: 1rem;\n",
       "  text-decoration: none;\n",
       "  /* unfitted */\n",
       "  color: var(--sklearn-color-unfitted-level-1);\n",
       "  border: var(--sklearn-color-unfitted-level-1) 1pt solid;\n",
       "}\n",
       "\n",
       "#sk-container-id-1 a.estimator_doc_link.fitted {\n",
       "  /* fitted */\n",
       "  border: var(--sklearn-color-fitted-level-1) 1pt solid;\n",
       "  color: var(--sklearn-color-fitted-level-1);\n",
       "}\n",
       "\n",
       "/* On hover */\n",
       "#sk-container-id-1 a.estimator_doc_link:hover {\n",
       "  /* unfitted */\n",
       "  background-color: var(--sklearn-color-unfitted-level-3);\n",
       "  color: var(--sklearn-color-background);\n",
       "  text-decoration: none;\n",
       "}\n",
       "\n",
       "#sk-container-id-1 a.estimator_doc_link.fitted:hover {\n",
       "  /* fitted */\n",
       "  background-color: var(--sklearn-color-fitted-level-3);\n",
       "}\n",
       "</style><div id=\"sk-container-id-1\" class=\"sk-top-container\"><div class=\"sk-text-repr-fallback\"><pre>RandomForestClassifier(max_depth=10, random_state=42)</pre><b>In a Jupyter environment, please rerun this cell to show the HTML representation or trust the notebook. <br />On GitHub, the HTML representation is unable to render, please try loading this page with nbviewer.org.</b></div><div class=\"sk-container\" hidden><div class=\"sk-item\"><div class=\"sk-estimator fitted sk-toggleable\"><input class=\"sk-toggleable__control sk-hidden--visually\" id=\"sk-estimator-id-1\" type=\"checkbox\" checked><label for=\"sk-estimator-id-1\" class=\"sk-toggleable__label fitted sk-toggleable__label-arrow fitted\">&nbsp;&nbsp;RandomForestClassifier<a class=\"sk-estimator-doc-link fitted\" rel=\"noreferrer\" target=\"_blank\" href=\"https://scikit-learn.org/1.5/modules/generated/sklearn.ensemble.RandomForestClassifier.html\">?<span>Documentation for RandomForestClassifier</span></a><span class=\"sk-estimator-doc-link fitted\">i<span>Fitted</span></span></label><div class=\"sk-toggleable__content fitted\"><pre>RandomForestClassifier(max_depth=10, random_state=42)</pre></div> </div></div></div></div>"
      ]
     },
     "execution_count": 22,
     "metadata": {},
     "output_type": "execute_result"
    }
   ],
   "execution_count": 22
  },
  {
   "cell_type": "code",
   "id": "a3856b49da2b05c1",
   "metadata": {
    "ExecuteTime": {
     "end_time": "2024-10-20T07:42:03.402602Z",
     "start_time": "2024-10-20T07:42:02.082721Z"
    }
   },
   "source": [
    "### Make predictions on test data  \n",
    "\n",
    "# Make predictions on test data\n",
    "y_pred = rfc.predict(x_test)\n",
    "\n",
    "accuracy1 = accuracy_score(y_test, y_pred)\n",
    "precision1 = precision_score(y_test, y_pred)\n",
    "recall1 = recall_score(y_test, y_pred)\n",
    "f1_score1 = f1_score(y_test, y_pred)\n",
    "\n",
    "print('Random Forest Classifier\\n--------------------')\n",
    "print(f'Accuracy: {round(accuracy1 * 100, 2)}%')\n",
    "print(f'Precision: {round(precision1 * 100, 2)}%')\n",
    "print(f'Recall: {round(recall1 * 100, 2)}%')\n",
    "print(f'F1-score: {round(f1_score1 * 100, 2)}%')"
   ],
   "outputs": [
    {
     "name": "stdout",
     "output_type": "stream",
     "text": [
      "Random Forest Classifier\n",
      "--------------------\n",
      "Accuracy: 68.36%\n",
      "Precision: 87.82%\n",
      "Recall: 42.64%\n",
      "F1-score: 57.41%\n"
     ]
    }
   ],
   "execution_count": 23
  },
  {
   "metadata": {
    "ExecuteTime": {
     "end_time": "2024-10-20T07:42:03.864676Z",
     "start_time": "2024-10-20T07:42:03.459082Z"
    }
   },
   "cell_type": "code",
   "source": [
    "### Plot the confusion matrix \n",
    "matx = confusion_matrix(y_test, y_pred)\n",
    "sns.heatmap(matx, annot=True, fmt='.2f', cmap='Blues')\n",
    "plt.xlabel('predicted')\n",
    "plt.ylabel('True values')\n",
    "plt.title('Random Forest Classifier')\n",
    "plt.show()"
   ],
   "id": "72aad17eb7a5c486",
   "outputs": [
    {
     "data": {
      "text/plain": [
       "<Figure size 640x480 with 2 Axes>"
      ],
      "image/png": "[encoded data removed]"
     },
     "metadata": {},
     "output_type": "display_data"
    }
   ],
   "execution_count": 24
  },
  {
   "metadata": {},
   "cell_type": "markdown",
   "source": [
    "#### Observation: A lot of positive cases were predicted as negative\n",
    "..."
   ],
   "id": "46e52cb28defda7e"
  },
  {
   "metadata": {
    "ExecuteTime": {
     "end_time": "2024-10-20T07:42:03.898674Z",
     "start_time": "2024-10-20T07:42:03.892383Z"
    }
   },
   "cell_type": "code",
   "source": [
    "### Hyper parameter tuning  \n",
    "from sklearn.model_selection import GridSearchCV\n",
    "\n",
    "# model_grid_params = {\n",
    "#     'n_estimators': list(range(90, 110)),\n",
    "#     'max_depth': list(range(1, 10)),\n",
    "#     'random_state': list(range(40,60))\n",
    "# }\n",
    "# \n",
    "# grid_search = GridSearchCV(rfc, model_grid_params, cv = 5)\n",
    "# grid_search.fit(x_train, y_train)\n",
    "# \n",
    "# # Output griod search result\n",
    "# grid_search.best_params_"
   ],
   "id": "4b5d7812e57830fa",
   "outputs": [],
   "execution_count": 25
  },
  {
   "metadata": {
    "ExecuteTime": {
     "end_time": "2024-10-20T07:42:04.347053Z",
     "start_time": "2024-10-20T07:42:03.950264Z"
    }
   },
   "cell_type": "code",
   "source": [
    "# Create an XGBoost DMatrix for the training data\n",
    "import xgboost as xgb\n",
    "\n",
    "dtrain = xgb.DMatrix(x_train, label=y_train)\n",
    "dtest = xgb.DMatrix(x_test, label=y_test)"
   ],
   "id": "1cb4e03df26e5657",
   "outputs": [],
   "execution_count": 26
  },
  {
   "metadata": {
    "ExecuteTime": {
     "end_time": "2024-10-20T07:42:06.182735Z",
     "start_time": "2024-10-20T07:42:04.408396Z"
    }
   },
   "cell_type": "code",
   "source": [
    "#Defining the hyperparameters for the XGBoost model\n",
    "\n",
    "params = {\n",
    "    'max_depth': 3,\n",
    "    'eta': 0.1,\n",
    "    'objective': 'multi:softmax',\n",
    "    'num_class': 3}\n",
    "\n",
    "#Training the Model\n",
    "model = xgb.train(params, dtrain, num_boost_round=10)"
   ],
   "id": "13bb40d93b25123d",
   "outputs": [],
   "execution_count": 27
  },
  {
   "metadata": {
    "ExecuteTime": {
     "end_time": "2024-10-20T07:42:06.519312Z",
     "start_time": "2024-10-20T07:42:06.239323Z"
    }
   },
   "cell_type": "code",
   "source": [
    "# Making predictions on the testing set\n",
    "\n",
    "xgy_pred = model.predict(dtest)\n",
    "accuracy2 = accuracy_score(y_test, xgy_pred)\n",
    "\n",
    "from sklearn.metrics import accuracy_score\n",
    "accuracy2 = accuracy_score(y_test, xgy_pred)\n",
    "precision2 = precision_score(y_test, xgy_pred)\n",
    "recall2 = recall_score(y_test, xgy_pred)\n",
    "f1_score2 = f1_score(y_test, xgy_pred)\n",
    "\n",
    "print('XG Boost Classifier\\n--------------------')\n",
    "print(f'Accuracy: {round(accuracy2 * 100, 2)}')\n",
    "print(f'Precision: {round(precision2 * 100, 2)}')\n",
    "print(f'Recall: {round(recall2 * 100, 2)}')\n",
    "print(f'f1_score: {round(f1_score2 * 10, 2)}')\n",
    "\n"
   ],
   "id": "9fc58a45ba300041",
   "outputs": [
    {
     "name": "stdout",
     "output_type": "stream",
     "text": [
      "XG Boost Classifier\n",
      "--------------------\n",
      "Accuracy: 68.15\n",
      "Precision: 87.78\n",
      "Recall: 42.17\n",
      "f1_score: 5.7\n"
     ]
    }
   ],
   "execution_count": 28
  },
  {
   "metadata": {
    "ExecuteTime": {
     "end_time": "2024-10-20T07:42:06.843832Z",
     "start_time": "2024-10-20T07:42:06.579867Z"
    }
   },
   "cell_type": "code",
   "source": [
    "matx = confusion_matrix(y_test, xgy_pred)\n",
    "sns.heatmap(matx, annot=True, fmt='.2f', cmap='Blues')\n",
    "plt.xlabel('predicted')\n",
    "plt.ylabel('True values')\n",
    "plt.title('XGBoost')\n",
    "plt.show()"
   ],
   "id": "260591cf82ee9f3c",
   "outputs": [
    {
     "data": {
      "text/plain": [
       "<Figure size 640x480 with 2 Axes>"
      ],
      "image/png": "[encoded data removed]"
     },
     "metadata": {},
     "output_type": "display_data"
    }
   ],
   "execution_count": 29
  },
  {
   "metadata": {
    "ExecuteTime": {
     "end_time": "2024-10-20T07:42:06.905986Z",
     "start_time": "2024-10-20T07:42:06.901181Z"
    }
   },
   "cell_type": "code",
   "source": "",
   "id": "813c07ed0461ff71",
   "outputs": [],
   "execution_count": null
  },
  {
   "metadata": {},
   "cell_type": "markdown",
   "source": "USING LOGISTICS REGRESSION MODEL",
   "id": "b8d959d4a7dfbd14"
  },
  {
   "metadata": {
    "ExecuteTime": {
     "end_time": "2024-10-20T07:42:07.915682Z",
     "start_time": "2024-10-20T07:42:06.967924Z"
    }
   },
   "cell_type": "code",
   "source": [
    "logreg=LogisticRegression()\n",
    "logreg.fit(x_train,y_train)\n",
    "lry_pred=logreg.predict(x_test)\n",
    "\n",
    "from sklearn.metrics import accuracy_score\n",
    "accuracy3 = accuracy_score(y_test, lry_pred)\n",
    "precision3 = precision_score(y_test, lry_pred)\n",
    "recall3 = recall_score(y_test, lry_pred)\n",
    "f1_score3 = f1_score(y_test, lry_pred)\n",
    "\n"
   ],
   "id": "282b07e919238d86",
   "outputs": [],
   "execution_count": 30
  },
  {
   "metadata": {
    "ExecuteTime": {
     "end_time": "2024-10-20T07:42:07.964252Z",
     "start_time": "2024-10-20T07:42:07.954684Z"
    }
   },
   "cell_type": "code",
   "source": [
    "print('Logistics Regression Classifer\\n--------------------')\n",
    "print(f'Accuracy: {round(accuracy3 * 100, 2)}')\n",
    "print(f'Precision: {round(precision3 * 100, 2)}')\n",
    "print(f'Recall: {round(recall3 * 100, 2)}')\n",
    "print(f'f1_score: {round(f1_score3 * 10, 2)}')"
   ],
   "id": "d40671629e2d3dc5",
   "outputs": [
    {
     "name": "stdout",
     "output_type": "stream",
     "text": [
      "Logistics Regression Classifer\n",
      "--------------------\n",
      "Accuracy: 68.36\n",
      "Precision: 87.82\n",
      "Recall: 42.64\n",
      "f1_score: 5.74\n"
     ]
    }
   ],
   "execution_count": 31
  },
  {
   "metadata": {},
   "cell_type": "markdown",
   "source": "Ploting confusion matrix for Logistic Regression",
   "id": "a60ec8fd72d51b00"
  },
  {
   "metadata": {
    "ExecuteTime": {
     "end_time": "2024-10-20T07:42:08.395590Z",
     "start_time": "2024-10-20T07:42:08.115850Z"
    }
   },
   "cell_type": "code",
   "source": [
    "matx = confusion_matrix(y_test, lry_pred)\n",
    "sns.heatmap(matx, annot=True, fmt='.2f', cmap='Blues')\n",
    "plt.xlabel('predicted')\n",
    "plt.ylabel('True values')\n",
    "plt.title('Logistics Regression')\n",
    "plt.show()"
   ],
   "id": "3c8ff91683bda752",
   "outputs": [
    {
     "data": {
      "text/plain": [
       "<Figure size 640x480 with 2 Axes>"
      ],
      "image/png": "[encoded data removed]"
     },
     "metadata": {},
     "output_type": "display_data"
    }
   ],
   "execution_count": 32
  },
  {
   "metadata": {
    "ExecuteTime": {
     "end_time": "2024-10-20T07:42:08.423985Z",
     "start_time": "2024-10-20T07:42:08.415014Z"
    }
   },
   "cell_type": "code",
   "source": "### OBSERVATION: A lot of cases were predicted as negative",
   "id": "1b31e92ba90ebcf0",
   "outputs": [],
   "execution_count": 33
  },
  {
   "metadata": {
    "ExecuteTime": {
     "end_time": "2024-10-20T07:42:08.488999Z",
     "start_time": "2024-10-20T07:42:08.479617Z"
    }
   },
   "cell_type": "code",
   "source": "### USING THE NAIVE BAYES CLASSIFIER MODEL",
   "id": "6a254206e7ed603c",
   "outputs": [],
   "execution_count": 34
  },
  {
   "metadata": {
    "ExecuteTime": {
     "end_time": "2024-10-20T07:42:08.810262Z",
     "start_time": "2024-10-20T07:42:08.541442Z"
    }
   },
   "cell_type": "code",
   "source": [
    "from sklearn.datasets import load_iris\n",
    "from sklearn.naive_bayes import GaussianNB\n",
    "from sklearn.model_selection import train_test_split\n",
    "from sklearn.metrics import accuracy_score\n",
    "\n",
    "# Create a Gaussian Naive Bayes classifier\n",
    "gnb = GaussianNB()\n",
    "\n",
    "# Train the classifier on the training data\n",
    "gnb.fit(x_train, y_train)\n",
    "\n",
    "# Make predictions on the testing data\n",
    "gnb_y_pred = gnb.predict(x_test)"
   ],
   "id": "93094e4b40559b68",
   "outputs": [],
   "execution_count": 35
  },
  {
   "metadata": {
    "ExecuteTime": {
     "end_time": "2024-10-20T07:42:08.982706Z",
     "start_time": "2024-10-20T07:42:08.853758Z"
    }
   },
   "cell_type": "code",
   "source": [
    "from sklearn.metrics import accuracy_score\n",
    "accuracy4 = accuracy_score(y_test, gnb_y_pred)\n",
    "precision4 = precision_score(y_test, gnb_y_pred)\n",
    "recall4 = recall_score(y_test, gnb_y_pred)\n",
    "f1_score4 = f1_score(y_test, gnb_y_pred)\n",
    "\n",
    "print('Logistics Regression Classifer\\n--------------------')\n",
    "print(f'Accuracy: {round(accuracy4 * 100, 2)}')\n",
    "print(f'Precision: {round(precision4 * 100, 2)}')\n",
    "print(f'Recall: {round(recall4 * 100, 2)}')\n",
    "print(f'f1_score: {round(f1_score4 * 10, 2)}')"
   ],
   "id": "c2f0744dc5174835",
   "outputs": [
    {
     "name": "stdout",
     "output_type": "stream",
     "text": [
      "Logistics Regression Classifer\n",
      "--------------------\n",
      "Accuracy: 68.36\n",
      "Precision: 87.82\n",
      "Recall: 42.64\n",
      "f1_score: 5.74\n"
     ]
    }
   ],
   "execution_count": 36
  },
  {
   "metadata": {
    "ExecuteTime": {
     "end_time": "2024-10-20T07:42:09.044926Z",
     "start_time": "2024-10-20T07:42:09.039638Z"
    }
   },
   "cell_type": "code",
   "source": "###Plotting confusion matrix for Naive Bayes",
   "id": "b9d9ba4be7d50cc2",
   "outputs": [],
   "execution_count": 37
  },
  {
   "metadata": {
    "ExecuteTime": {
     "end_time": "2024-10-20T07:42:09.392698Z",
     "start_time": "2024-10-20T07:42:09.109461Z"
    }
   },
   "cell_type": "code",
   "source": [
    "matx = confusion_matrix(y_test, gnb_y_pred)\n",
    "sns.heatmap(matx, annot=True, fmt='.2f', cmap='Blues')\n",
    "plt.xlabel('predicted')\n",
    "plt.ylabel('True values')\n",
    "plt.title('Naive Bayes')\n",
    "plt.show()"
   ],
   "id": "d29f95029e4e678f",
   "outputs": [
    {
     "data": {
      "text/plain": [
       "<Figure size 640x480 with 2 Axes>"
      ],
      "image/png": "[encoded data removed]"
     },
     "metadata": {},
     "output_type": "display_data"
    }
   ],
   "execution_count": 38
  },
  {
   "metadata": {
    "ExecuteTime": {
     "end_time": "2024-10-20T07:42:09.450825Z",
     "start_time": "2024-10-20T07:42:09.446087Z"
    }
   },
   "cell_type": "code",
   "source": [
    "###Observation\n",
    "\n",
    "###This model predicted more positive cases correctly as compared to the XG Boost Model\n",
    "###This model predicted more positive cases wrongly than it did for correctly predicting positive cases."
   ],
   "id": "c0a19e80b63dbfbf",
   "outputs": [],
   "execution_count": 39
  },
  {
   "metadata": {
    "ExecuteTime": {
     "end_time": "2024-10-20T07:42:09.513821Z",
     "start_time": "2024-10-20T07:42:09.501883Z"
    }
   },
   "cell_type": "code",
   "source": "#### USING THE K-NEAREST NEIGBOUR CLASSIFIER MODEL",
   "id": "fd784a1a2d1cd86e",
   "outputs": [],
   "execution_count": 40
  },
  {
   "metadata": {
    "ExecuteTime": {
     "end_time": "2024-10-20T08:09:30.937500Z",
     "start_time": "2024-10-20T07:42:09.603925Z"
    }
   },
   "cell_type": "code",
   "source": [
    "\n",
    "knn = KNeighborsClassifier(n_neighbors=3)\n",
    "\n",
    "# Train the classifier on the training data\n",
    "knn.fit(x_train, y_train)\n",
    "\n",
    "# Make predictions on the testing data\n",
    "knn_y_pred = knn.predict(x_test)\n",
    "\n",
    "accuracy_knn = accuracy_score(y_test, knn_y_pred)\n",
    "precision_knn = precision_score(y_test, knn_y_pred, average='weighted')\n",
    "recall_knn = recall_score(y_test, knn_y_pred, average='weighted')\n",
    "f1_knn = f1_score(y_test, knn_y_pred, average='weighted')\n",
    "\n",
    "\n"
   ],
   "id": "baf9d4875e250f08",
   "outputs": [],
   "execution_count": 41
  },
  {
   "metadata": {
    "ExecuteTime": {
     "end_time": "2024-10-20T08:09:31.267899Z",
     "start_time": "2024-10-20T08:09:30.952948Z"
    }
   },
   "cell_type": "code",
   "source": [
    "print('K-Nearest Neighbors Classifier\\n--------------------')\n",
    "print(f'Accuracy: {round(accuracy_knn * 100, 2)}')\n",
    "print(f'Precision: {round(precision_knn * 100, 2)}')\n",
    "print(f'Recall: {round(recall_knn * 100, 2)}')\n",
    "print(f'f1_score: {round(f1_knn * 100, 2)}')\n",
    "\n",
    "matx_knn = confusion_matrix(y_test, knn_y_pred)\n",
    "sns.heatmap(matx_knn, annot=True, fmt='d', cmap='Blues')\n",
    "plt.xlabel('Predicted')\n",
    "plt.ylabel('True values')\n",
    "plt.title('Confusion Matrix for K-Nearest Neighbors')\n",
    "plt.show()"
   ],
   "id": "ffa8b44dddaaa2f6",
   "outputs": [
    {
     "name": "stdout",
     "output_type": "stream",
     "text": [
      "K-Nearest Neighbors Classifier\n",
      "--------------------\n",
      "Accuracy: 47.04\n",
      "Precision: 29.76\n",
      "Recall: 47.04\n",
      "f1_score: 32.67\n"
     ]
    },
    {
     "data": {
      "text/plain": [
       "<Figure size 640x480 with 2 Axes>"
      ],
      "image/png": "[encoded data removed]"
     },
     "metadata": {},
     "output_type": "display_data"
    }
   ],
   "execution_count": 42
  },
  {
   "metadata": {
    "ExecuteTime": {
     "end_time": "2024-10-20T08:09:31.336799Z",
     "start_time": "2024-10-20T08:09:31.330377Z"
    }
   },
   "cell_type": "code",
   "source": "### USING PCA WITH SUPPORT VECTOR MACHINE (SVM) CLASSIFIER MODEL\n",
   "id": "4b6500c0be27d881",
   "outputs": [],
   "execution_count": 43
  },
  {
   "metadata": {
    "jupyter": {
     "is_executing": true
    },
    "ExecuteTime": {
     "start_time": "2024-10-20T08:09:31.429476Z"
    }
   },
   "cell_type": "code",
   "source": [
    "\n",
    "\n",
    "pca = PCA(n_components=2)  # Reduce the dimensions to 2 for visualization\n",
    "x_train_pca = pca.fit_transform(x_train)\n",
    "x_test_pca = pca.transform(x_test)\n",
    "\n",
    "svm_model = SVC(kernel='linear')  # Use a linear kernel for simplicity\n",
    "\n",
    "# Train the classifier on the PCA-transformed training data\n",
    "svm_model.fit(x_train_pca, y_train)\n",
    "\n",
    "# Make predictions on the PCA-transformed testing data\n",
    "svm_y_pred_pca = svm_model.predict(x_test_pca)\n",
    "\n",
    "accuracy_svm_pca = accuracy_score(y_test, svm_y_pred_pca)\n",
    "precision_svm_pca = precision_score(y_test, svm_y_pred_pca, average='weighted')\n",
    "recall_svm_pca = recall_score(y_test, svm_y_pred_pca, average='weighted')\n",
    "f1_svm_pca = f1_score(y_test, svm_y_pred_pca, average='weighted')\n",
    "\n",
    "print('Support Vector Machine with PCA\\n--------------------')\n",
    "print(f'Accuracy: {round(accuracy_svm_pca * 100, 2)}')\n",
    "print(f'Precision: {round(precision_svm_pca * 100, 2)}')\n",
    "print(f'Recall: {round(recall_svm_pca * 100, 2)}')\n",
    "print(f'f1_score: {round(f1_svm_pca * 100, 2)}')\n",
    "\n"
   ],
   "id": "c5d190bff6866ed8",
   "outputs": [],
   "execution_count": null
  },
  {
   "metadata": {
    "ExecuteTime": {
     "end_time": "2024-10-19T21:32:43.919791900Z",
     "start_time": "2024-10-19T10:25:20.040577Z"
    }
   },
   "cell_type": "code",
   "source": [
    "# CONFUSION MATRIX FOR SUPPORT VECTOR MACHINE WITH PCA\n",
    "matx_svm_pca = confusion_matrix(y_test, svm_y_pred_pca)\n",
    "sns.heatmap(matx_svm_pca, annot=True, fmt='d', cmap='Blues')\n",
    "plt.xlabel('Predicted')\n",
    "plt.ylabel('True values')\n",
    "plt.title('Confusion Matrix for SVM with PCA')\n",
    "plt.show()\n"
   ],
   "id": "d99015e2b6fe88a9",
   "outputs": [
    {
     "data": {
      "text/plain": [
       "<Figure size 640x480 with 2 Axes>"
      ],
      "image/png": "[encoded data removed]"
     },
     "metadata": {},
     "output_type": "display_data"
    }
   ],
   "execution_count": 593
  },
  {
   "metadata": {
    "ExecuteTime": {
     "end_time": "2024-10-19T21:32:43.919791900Z",
     "start_time": "2024-10-19T10:25:20.380883Z"
    }
   },
   "cell_type": "code",
   "source": [
    "# Print and compare all 6 Accuracies, Recalls, Precisions and f1 scores...\n",
    "models = ['Random Forest Model', 'XGBoost Model', 'Logistics Regression Model', 'Naive Bayes Model', 'K-Nearest Neighbors Classifier', 'Support Vector Machine with PCA']\n",
    "accuracies = [accuracy1, accuracy2, accuracy3, accuracy4, accuracy_knn, accuracy_svm_pca]\n",
    "recalls = [recall1, recall2, recall3, recall4, recall_knn, recall_svm_pca]\n",
    "precisions = [precision1, precision2, precision3, precision4, precision_knn, precision_svm_pca]\n",
    "f1_scores = [f1_score1, f1_score2, f1_score3, f1_score4, f1_knn, f1_svm_pca]\n",
    "\n",
    "for i in range(0, 6):\n",
    "    print(f'{models[i]} Metrics:\\n----------------------')\n",
    "    print(f'Accuracy: {round(accuracies[i] * 100, 2)}%')\n",
    "    print(f'Recall: {round(recalls[i] * 100, 2)}%')\n",
    "    print(f'Precision: {round(precisions[i] * 100, 2)}%')\n",
    "    print(f'F1 score: {round(f1_scores[i] * 100, 2)}%\\n\\n')"
   ],
   "id": "1c3e2140972c51fa",
   "outputs": [
    {
     "name": "stdout",
     "output_type": "stream",
     "text": [
      "Random Forest Model Metrics:\n",
      "----------------------\n",
      "Accuracy: 68.36%\n",
      "Recall: 42.64%\n",
      "Precision: 87.82%\n",
      "F1 score: 57.41%\n",
      "\n",
      "\n",
      "XGBoost Model Metrics:\n",
      "----------------------\n",
      "Accuracy: 68.15%\n",
      "Recall: 42.17%\n",
      "Precision: 87.78%\n",
      "F1 score: 56.97%\n",
      "\n",
      "\n",
      "Logistics Regression Model Metrics:\n",
      "----------------------\n",
      "Accuracy: 68.36%\n",
      "Recall: 42.64%\n",
      "Precision: 87.82%\n",
      "F1 score: 57.41%\n",
      "\n",
      "\n",
      "Naive Bayes Model Metrics:\n",
      "----------------------\n",
      "Accuracy: 68.36%\n",
      "Recall: 42.64%\n",
      "Precision: 87.82%\n",
      "F1 score: 57.41%\n",
      "\n",
      "\n",
      "K-Nearest Neighbors Classifier Metrics:\n",
      "----------------------\n",
      "Accuracy: 47.04%\n",
      "Recall: 47.04%\n",
      "Precision: 29.76%\n",
      "F1 score: 32.67%\n",
      "\n",
      "\n",
      "Support Vector Machine with PCA Metrics:\n",
      "----------------------\n",
      "Accuracy: 97.78%\n",
      "Recall: 97.78%\n",
      "Precision: 97.94%\n",
      "F1 score: 97.77%\n",
      "\n",
      "\n"
     ]
    }
   ],
   "execution_count": 594
  },
  {
   "metadata": {
    "ExecuteTime": {
     "end_time": "2024-10-19T21:32:43.919791900Z",
     "start_time": "2024-10-19T10:25:20.458778Z"
    }
   },
   "cell_type": "code",
   "source": "",
   "id": "c0deb3752c377f9e",
   "outputs": [],
   "execution_count": null
  },
  {
   "metadata": {},
   "cell_type": "markdown",
   "source": "",
   "id": "2bdc6ee26d209446"
  }
 ],
 "metadata": {
  "kernelspec": {
   "display_name": "Python 3",
   "language": "python",
   "name": "python3"
  },
  "language_info": {
   "codemirror_mode": {
    "name": "ipython",
    "version": 2
   },
   "file_extension": ".py",
   "mimetype": "text/x-python",
   "name": "python",
   "nbconvert_exporter": "python",
   "pygments_lexer": "ipython2",
   "version": "2.7.6"
  }
 },
 "nbformat": 4,
 "nbformat_minor": 5
}
